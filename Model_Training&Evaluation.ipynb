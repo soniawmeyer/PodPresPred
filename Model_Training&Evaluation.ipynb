{
 "cells": [
  {
   "cell_type": "code",
   "execution_count": 40,
   "id": "630ef8c4-87e2-4073-9611-df4d2d2251da",
   "metadata": {},
   "outputs": [
    {
     "name": "stdout",
     "output_type": "stream",
     "text": [
      "root\n",
      " |-- segment_id: long (nullable = true)\n",
      " |-- podcast_name_cleaned: string (nullable = true)\n",
      " |-- features: vector (nullable = true)\n",
      " |-- label: string (nullable = true)\n",
      "\n",
      "+----------+--------------------+--------------------+-----+\n",
      "|segment_id|podcast_name_cleaned|            features|label|\n",
      "+----------+--------------------+--------------------+-----+\n",
      "|         0|Bill OReillys No ...|[-4.0,0.019139915...|  0.8|\n",
      "|         0|Bill OReillys No ...|[-4.0,0.019139915...|  0.5|\n",
      "|         0|Bill OReillys No ...|[-4.0,0.019139915...|  0.8|\n",
      "|         0|Bill OReillys No ...|[-4.0,0.019139915...|    1|\n",
      "|         0|Bill OReillys No ...|[-4.0,0.019139915...|  0.7|\n",
      "|         0|Bill OReillys No ...|[-4.0,0.019139915...|  0.2|\n",
      "|         0|Bill OReillys No ...|[-4.0,0.019139915...|  0.4|\n",
      "|         0|Bill OReillys No ...|[-4.0,0.019139915...|  0.5|\n",
      "|         1|    pod save america|[10.0,0.021193129...|  0.5|\n",
      "|         1|    pod save america|[10.0,0.021193129...|  0.7|\n",
      "|         1|    pod save america|[10.0,0.021193129...|  0.8|\n",
      "|         1|    pod save america|[10.0,0.021193129...|  0.1|\n",
      "|         1|    pod save america|[10.0,0.021193129...|  0.9|\n",
      "|         1|    pod save america|[10.0,0.021193129...|  0.6|\n",
      "|         1|    pod save america|[10.0,0.021193129...|  0.9|\n",
      "|         1|    pod save america|[10.0,0.021193129...|  0.3|\n",
      "|         1|    pod save america|[10.0,0.021193129...|  0.9|\n",
      "|         2|Bill OReillys No ...|[29.0,0.010619958...|  0.7|\n",
      "|         2|Bill OReillys No ...|[29.0,0.010619958...|  0.3|\n",
      "|         2|Bill OReillys No ...|[29.0,0.010619958...|  0.1|\n",
      "+----------+--------------------+--------------------+-----+\n",
      "only showing top 20 rows\n",
      "\n"
     ]
    }
   ],
   "source": [
    "#INITIALIZE SPARK SESSION\n",
    "from pyspark.sql import SparkSession\n",
    "spark = SparkSession.builder.appName(\"PodPres\").getOrCreate()\n",
    "\n",
    "assembled_df = spark.read.parquet(\"final_features_human_labels.parquet\")\n",
    "assembled_df.printSchema()\n",
    "assembled_df.show()  "
   ]
  },
  {
   "cell_type": "code",
   "execution_count": 42,
   "id": "7d116c92-18b6-43af-974a-51d285c8a004",
   "metadata": {},
   "outputs": [
    {
     "name": "stdout",
     "output_type": "stream",
     "text": [
      "The DataFrame has 867 rows.\n"
     ]
    }
   ],
   "source": [
    "# total row\n",
    "row_count = assembled_df.count()\n",
    "print(f\"The DataFrame has {row_count} rows.\")"
   ]
  },
  {
   "cell_type": "markdown",
   "id": "a60578e1-e41f-4992-95e9-57585ec7e402",
   "metadata": {},
   "source": [
    "### RandomForest model training"
   ]
  },
  {
   "cell_type": "code",
   "execution_count": 43,
   "id": "bed515bd-76b1-4bfb-9b46-54c37a635f75",
   "metadata": {},
   "outputs": [
    {
     "name": "stdout",
     "output_type": "stream",
     "text": [
      "+------------+----------+----------------------------------------+\n",
      "|binary_label|prediction|probability                             |\n",
      "+------------+----------+----------------------------------------+\n",
      "|1           |1.0       |[0.3233472129622219,0.6766527870377781] |\n",
      "|1           |1.0       |[0.3233472129622219,0.6766527870377781] |\n",
      "|1           |1.0       |[0.3233472129622219,0.6766527870377781] |\n",
      "|1           |1.0       |[0.3233472129622219,0.6766527870377781] |\n",
      "|1           |1.0       |[0.3233472129622219,0.6766527870377781] |\n",
      "|0           |1.0       |[0.3233472129622219,0.6766527870377781] |\n",
      "|0           |1.0       |[0.3233472129622219,0.6766527870377781] |\n",
      "|1           |1.0       |[0.3233472129622219,0.6766527870377781] |\n",
      "|1           |1.0       |[0.29368956538353436,0.7063104346164657]|\n",
      "|1           |1.0       |[0.29368956538353436,0.7063104346164657]|\n",
      "|1           |1.0       |[0.29368956538353436,0.7063104346164657]|\n",
      "|0           |1.0       |[0.29368956538353436,0.7063104346164657]|\n",
      "|1           |1.0       |[0.29368956538353436,0.7063104346164657]|\n",
      "|1           |1.0       |[0.29368956538353436,0.7063104346164657]|\n",
      "|1           |1.0       |[0.29368956538353436,0.7063104346164657]|\n",
      "|0           |1.0       |[0.29368956538353436,0.7063104346164657]|\n",
      "|1           |1.0       |[0.29368956538353436,0.7063104346164657]|\n",
      "|1           |1.0       |[0.46121634705986636,0.5387836529401338]|\n",
      "|0           |1.0       |[0.46121634705986636,0.5387836529401338]|\n",
      "|0           |1.0       |[0.46121634705986636,0.5387836529401338]|\n",
      "|0           |1.0       |[0.46121634705986636,0.5387836529401338]|\n",
      "|1           |1.0       |[0.46121634705986636,0.5387836529401338]|\n",
      "|1           |1.0       |[0.46121634705986636,0.5387836529401338]|\n",
      "|0           |1.0       |[0.46121634705986636,0.5387836529401338]|\n",
      "|1           |1.0       |[0.46121634705986636,0.5387836529401338]|\n",
      "|0           |1.0       |[0.41748456411454204,0.5825154358854581]|\n",
      "|0           |1.0       |[0.41748456411454204,0.5825154358854581]|\n",
      "|1           |1.0       |[0.41748456411454204,0.5825154358854581]|\n",
      "|0           |1.0       |[0.41748456411454204,0.5825154358854581]|\n",
      "|1           |1.0       |[0.41748456411454204,0.5825154358854581]|\n",
      "|1           |1.0       |[0.41748456411454204,0.5825154358854581]|\n",
      "|1           |1.0       |[0.41748456411454204,0.5825154358854581]|\n",
      "|1           |1.0       |[0.3506700053619884,0.6493299946380117] |\n",
      "|1           |1.0       |[0.3506700053619884,0.6493299946380117] |\n",
      "|1           |1.0       |[0.3506700053619884,0.6493299946380117] |\n",
      "|0           |1.0       |[0.3506700053619884,0.6493299946380117] |\n",
      "|0           |1.0       |[0.3506700053619884,0.6493299946380117] |\n",
      "|1           |1.0       |[0.3506700053619884,0.6493299946380117] |\n",
      "|1           |1.0       |[0.3506700053619884,0.6493299946380117] |\n",
      "|0           |1.0       |[0.3506700053619884,0.6493299946380117] |\n",
      "|1           |0.0       |[0.5862109902419443,0.41378900975805566]|\n",
      "|0           |0.0       |[0.5862109902419443,0.41378900975805566]|\n",
      "|0           |0.0       |[0.5862109902419443,0.41378900975805566]|\n",
      "|0           |0.0       |[0.5862109902419443,0.41378900975805566]|\n",
      "|1           |0.0       |[0.5862109902419443,0.41378900975805566]|\n",
      "|0           |0.0       |[0.5862109902419443,0.41378900975805566]|\n",
      "|0           |0.0       |[0.5862109902419443,0.41378900975805566]|\n",
      "|0           |0.0       |[0.5892691876277943,0.41073081237220554]|\n",
      "|1           |0.0       |[0.5892691876277943,0.41073081237220554]|\n",
      "|1           |0.0       |[0.5892691876277943,0.41073081237220554]|\n",
      "+------------+----------+----------------------------------------+\n",
      "only showing top 50 rows\n",
      "\n"
     ]
    }
   ],
   "source": [
    "from pyspark.sql.functions import when, col\n",
    "from pyspark.ml.classification import RandomForestClassifier\n",
    "\n",
    "# Set the threshold and transform the labels\n",
    "assembled_df = assembled_df.withColumn(\"binary_label\", when(col(\"label\") >=0.5, 1).otherwise(0))\n",
    "\n",
    "# Classify using RandomForest with parameters: numTrees: 20, maxDepth: 5, maxBins: 32\n",
    "rf = RandomForestClassifier(featuresCol='features', labelCol='binary_label')\n",
    "\n",
    "# Train the model\n",
    "rfModel = rf.fit(assembled_df)\n",
    "\n",
    "# Model evaluation\n",
    "predictions = rfModel.transform(assembled_df)\n",
    "predictions.select(\"binary_label\", \"prediction\", \"probability\").show(50, truncate=False)"
   ]
  },
  {
   "cell_type": "code",
   "execution_count": 44,
   "id": "2066bebf-f328-4606-988f-1d373c0febb3",
   "metadata": {},
   "outputs": [
    {
     "name": "stdout",
     "output_type": "stream",
     "text": [
      "+----------+-----+\n",
      "|prediction|count|\n",
      "+----------+-----+\n",
      "|       0.0|  172|\n",
      "|       1.0|  695|\n",
      "+----------+-----+\n",
      "\n"
     ]
    }
   ],
   "source": [
    "from pyspark.sql.functions import col\n",
    "\n",
    "prediction_counts = predictions.groupBy(\"prediction\").count()\n",
    "# result\n",
    "prediction_counts.show()"
   ]
  },
  {
   "cell_type": "code",
   "execution_count": 45,
   "id": "80f29937-2aaf-4ac4-8906-91a2ffbcf9b2",
   "metadata": {},
   "outputs": [
    {
     "name": "stdout",
     "output_type": "stream",
     "text": [
      "+----------+-----+-------------------+\n",
      "|prediction|count|         percentage|\n",
      "+----------+-----+-------------------+\n",
      "|       0.0|  172|0.19838523644752018|\n",
      "|       1.0|  695| 0.8016147635524798|\n",
      "+----------+-----+-------------------+\n",
      "\n",
      "Biden win probability: 19.84%\n",
      "Trump win probability: 80.16%\n"
     ]
    }
   ],
   "source": [
    "total_count = prediction_counts.groupBy().sum(\"count\").collect()[0][0]\n",
    "# Adding a percentage column\n",
    "prediction_counts = prediction_counts.withColumn(\"percentage\", col(\"count\") / total_count)\n",
    "\n",
    "# Display the updated DataFrame\n",
    "prediction_counts.show()\n",
    "# Collect data for use in Python\n",
    "collected_data = prediction_counts.collect()\n",
    "\n",
    "# Iterate and print specific prediction probabilities\n",
    "for row in collected_data:\n",
    "    if row.prediction == 0.0:\n",
    "        print(f\"Biden win probability: {row.percentage * 100:.2f}%\")\n",
    "    elif row.prediction == 1.0:\n",
    "        print(f\"Trump win probability: {row.percentage * 100:.2f}%\")\n"
   ]
  },
  {
   "cell_type": "code",
   "execution_count": 46,
   "id": "999ce90e-fe72-484a-99a0-87d09dfb5c37",
   "metadata": {},
   "outputs": [
    {
     "name": "stderr",
     "output_type": "stream",
     "text": [
      "24/05/11 04:59:05 WARN DAGScheduler: Broadcasting large task binary with size 1021.1 KiB\n",
      "24/05/11 04:59:06 WARN DAGScheduler: Broadcasting large task binary with size 1172.2 KiB\n",
      "24/05/11 04:59:09 WARN DAGScheduler: Broadcasting large task binary with size 1074.8 KiB\n",
      "24/05/11 04:59:09 WARN DAGScheduler: Broadcasting large task binary with size 1226.0 KiB\n",
      "24/05/11 04:59:12 WARN DAGScheduler: Broadcasting large task binary with size 1021.1 KiB\n",
      "24/05/11 04:59:13 WARN DAGScheduler: Broadcasting large task binary with size 1172.2 KiB\n",
      "24/05/11 04:59:13 WARN DAGScheduler: Broadcasting large task binary with size 1295.5 KiB\n",
      "24/05/11 04:59:13 WARN DAGScheduler: Broadcasting large task binary with size 1378.9 KiB\n",
      "24/05/11 04:59:13 WARN DAGScheduler: Broadcasting large task binary with size 1422.3 KiB\n",
      "24/05/11 04:59:14 WARN DAGScheduler: Broadcasting large task binary with size 1272.3 KiB\n",
      "24/05/11 04:59:14 WARN DAGScheduler: Broadcasting large task binary with size 1221.6 KiB\n",
      "24/05/11 04:59:17 WARN DAGScheduler: Broadcasting large task binary with size 1074.8 KiB\n",
      "24/05/11 04:59:18 WARN DAGScheduler: Broadcasting large task binary with size 1226.0 KiB\n",
      "24/05/11 04:59:19 WARN DAGScheduler: Broadcasting large task binary with size 1360.0 KiB\n",
      "24/05/11 04:59:19 WARN DAGScheduler: Broadcasting large task binary with size 1453.0 KiB\n",
      "24/05/11 04:59:20 WARN DAGScheduler: Broadcasting large task binary with size 1524.0 KiB\n",
      "24/05/11 04:59:20 WARN DAGScheduler: Broadcasting large task binary with size 1545.2 KiB\n",
      "24/05/11 04:59:20 WARN DAGScheduler: Broadcasting large task binary with size 1374.3 KiB\n",
      "24/05/11 04:59:20 WARN DAGScheduler: Broadcasting large task binary with size 1013.0 KiB\n",
      "24/05/11 04:59:43 WARN DAGScheduler: Broadcasting large task binary with size 1029.0 KiB\n",
      "24/05/11 04:59:44 WARN DAGScheduler: Broadcasting large task binary with size 1200.8 KiB\n",
      "24/05/11 04:59:47 WARN DAGScheduler: Broadcasting large task binary with size 1027.0 KiB\n",
      "24/05/11 04:59:47 WARN DAGScheduler: Broadcasting large task binary with size 1196.0 KiB\n",
      "24/05/11 04:59:50 WARN DAGScheduler: Broadcasting large task binary with size 1029.0 KiB\n",
      "24/05/11 04:59:50 WARN DAGScheduler: Broadcasting large task binary with size 1200.8 KiB\n",
      "24/05/11 04:59:51 WARN DAGScheduler: Broadcasting large task binary with size 1337.8 KiB\n",
      "24/05/11 04:59:51 WARN DAGScheduler: Broadcasting large task binary with size 1413.5 KiB\n",
      "24/05/11 04:59:51 WARN DAGScheduler: Broadcasting large task binary with size 1451.8 KiB\n",
      "24/05/11 04:59:52 WARN DAGScheduler: Broadcasting large task binary with size 1493.0 KiB\n",
      "24/05/11 04:59:52 WARN DAGScheduler: Broadcasting large task binary with size 1203.6 KiB\n",
      "24/05/11 04:59:57 WARN DAGScheduler: Broadcasting large task binary with size 1027.0 KiB\n",
      "24/05/11 04:59:58 WARN DAGScheduler: Broadcasting large task binary with size 1196.0 KiB\n",
      "24/05/11 04:59:59 WARN DAGScheduler: Broadcasting large task binary with size 1337.6 KiB\n",
      "24/05/11 05:00:00 WARN DAGScheduler: Broadcasting large task binary with size 1453.9 KiB\n",
      "24/05/11 05:00:00 WARN DAGScheduler: Broadcasting large task binary with size 1506.3 KiB\n",
      "24/05/11 05:00:01 WARN DAGScheduler: Broadcasting large task binary with size 1530.3 KiB\n",
      "24/05/11 05:00:01 WARN DAGScheduler: Broadcasting large task binary with size 1327.9 KiB\n",
      "24/05/11 05:00:02 WARN DAGScheduler: Broadcasting large task binary with size 1022.1 KiB\n",
      "24/05/11 05:00:27 WARN DAGScheduler: Broadcasting large task binary with size 1142.2 KiB\n",
      "24/05/11 05:00:30 WARN DAGScheduler: Broadcasting large task binary with size 1039.5 KiB\n",
      "24/05/11 05:00:31 WARN DAGScheduler: Broadcasting large task binary with size 1182.4 KiB\n",
      "24/05/11 05:00:33 WARN DAGScheduler: Broadcasting large task binary with size 1142.2 KiB\n",
      "24/05/11 05:00:33 WARN DAGScheduler: Broadcasting large task binary with size 1265.9 KiB\n",
      "24/05/11 05:00:34 WARN DAGScheduler: Broadcasting large task binary with size 1368.2 KiB\n",
      "24/05/11 05:00:34 WARN DAGScheduler: Broadcasting large task binary with size 1411.5 KiB\n",
      "24/05/11 05:00:34 WARN DAGScheduler: Broadcasting large task binary with size 1346.0 KiB\n",
      "24/05/11 05:00:34 WARN DAGScheduler: Broadcasting large task binary with size 1239.0 KiB\n",
      "24/05/11 05:00:37 WARN DAGScheduler: Broadcasting large task binary with size 1039.5 KiB\n",
      "24/05/11 05:00:38 WARN DAGScheduler: Broadcasting large task binary with size 1182.4 KiB\n",
      "24/05/11 05:00:38 WARN DAGScheduler: Broadcasting large task binary with size 1303.0 KiB\n",
      "24/05/11 05:00:38 WARN DAGScheduler: Broadcasting large task binary with size 1401.8 KiB\n",
      "24/05/11 05:00:39 WARN DAGScheduler: Broadcasting large task binary with size 1470.3 KiB\n",
      "24/05/11 05:00:39 WARN DAGScheduler: Broadcasting large task binary with size 1403.7 KiB\n",
      "24/05/11 05:00:39 WARN DAGScheduler: Broadcasting large task binary with size 1243.0 KiB\n",
      "24/05/11 05:00:40 WARN DAGScheduler: Broadcasting large task binary with size 1038.3 KiB\n",
      "24/05/11 05:01:02 WARN DAGScheduler: Broadcasting large task binary with size 1130.6 KiB\n",
      "24/05/11 05:01:05 WARN DAGScheduler: Broadcasting large task binary with size 1158.3 KiB\n",
      "24/05/11 05:01:07 WARN DAGScheduler: Broadcasting large task binary with size 1130.6 KiB\n",
      "24/05/11 05:01:08 WARN DAGScheduler: Broadcasting large task binary with size 1266.2 KiB\n",
      "24/05/11 05:01:08 WARN DAGScheduler: Broadcasting large task binary with size 1370.1 KiB\n",
      "24/05/11 05:01:08 WARN DAGScheduler: Broadcasting large task binary with size 1440.4 KiB\n",
      "24/05/11 05:01:09 WARN DAGScheduler: Broadcasting large task binary with size 1380.9 KiB\n",
      "24/05/11 05:01:09 WARN DAGScheduler: Broadcasting large task binary with size 1292.3 KiB\n",
      "24/05/11 05:01:09 WARN DAGScheduler: Broadcasting large task binary with size 1001.3 KiB\n",
      "24/05/11 05:01:13 WARN DAGScheduler: Broadcasting large task binary with size 1158.3 KiB\n",
      "24/05/11 05:01:14 WARN DAGScheduler: Broadcasting large task binary with size 1292.4 KiB\n",
      "24/05/11 05:01:14 WARN DAGScheduler: Broadcasting large task binary with size 1398.1 KiB\n",
      "24/05/11 05:01:15 WARN DAGScheduler: Broadcasting large task binary with size 1447.7 KiB\n",
      "24/05/11 05:01:15 WARN DAGScheduler: Broadcasting large task binary with size 1385.9 KiB\n",
      "24/05/11 05:01:15 WARN DAGScheduler: Broadcasting large task binary with size 1308.3 KiB\n",
      "24/05/11 05:01:39 WARN DAGScheduler: Broadcasting large task binary with size 1011.1 KiB\n",
      "24/05/11 05:01:39 WARN DAGScheduler: Broadcasting large task binary with size 1169.1 KiB\n",
      "24/05/11 05:01:42 WARN DAGScheduler: Broadcasting large task binary with size 1021.1 KiB\n",
      "24/05/11 05:01:42 WARN DAGScheduler: Broadcasting large task binary with size 1181.8 KiB\n",
      "24/05/11 05:01:45 WARN DAGScheduler: Broadcasting large task binary with size 1011.1 KiB\n",
      "24/05/11 05:01:46 WARN DAGScheduler: Broadcasting large task binary with size 1169.1 KiB\n",
      "24/05/11 05:01:46 WARN DAGScheduler: Broadcasting large task binary with size 1304.2 KiB\n",
      "24/05/11 05:01:46 WARN DAGScheduler: Broadcasting large task binary with size 1411.6 KiB\n",
      "24/05/11 05:01:47 WARN DAGScheduler: Broadcasting large task binary with size 1481.0 KiB\n",
      "24/05/11 05:01:47 WARN DAGScheduler: Broadcasting large task binary with size 1413.5 KiB\n",
      "24/05/11 05:01:47 WARN DAGScheduler: Broadcasting large task binary with size 1153.1 KiB\n",
      "24/05/11 05:01:52 WARN DAGScheduler: Broadcasting large task binary with size 1021.1 KiB\n",
      "24/05/11 05:01:53 WARN DAGScheduler: Broadcasting large task binary with size 1181.8 KiB\n",
      "24/05/11 05:01:54 WARN DAGScheduler: Broadcasting large task binary with size 1316.4 KiB\n",
      "24/05/11 05:01:55 WARN DAGScheduler: Broadcasting large task binary with size 1422.1 KiB\n",
      "24/05/11 05:01:56 WARN DAGScheduler: Broadcasting large task binary with size 1503.3 KiB\n",
      "24/05/11 05:01:57 WARN DAGScheduler: Broadcasting large task binary with size 1495.9 KiB\n",
      "24/05/11 05:01:57 WARN DAGScheduler: Broadcasting large task binary with size 1356.8 KiB\n",
      "24/05/11 05:01:58 WARN DAGScheduler: Broadcasting large task binary with size 1065.1 KiB\n"
     ]
    }
   ],
   "source": [
    "from pyspark.ml.tuning import ParamGridBuilder\n",
    "\n",
    "# Conducting grid-search\n",
    "paramGrid = ParamGridBuilder().addGrid(rf.numTrees, [10, 20, 50]).addGrid(rf.maxDepth, [5, 10, 20]).addGrid(rf.maxBins, [32, 64]).build()\n",
    "\n",
    "from pyspark.ml.tuning import CrossValidator\n",
    "from pyspark.ml.evaluation import BinaryClassificationEvaluator\n",
    "\n",
    "# Set up the evaluator\n",
    "evaluator = BinaryClassificationEvaluator(labelCol=\"binary_label\", rawPredictionCol=\"rawPrediction\", metricName=\"areaUnderROC\")\n",
    "\n",
    "# Create a cross-validator\n",
    "crossval = CrossValidator(estimator=rf,\n",
    "                          estimatorParamMaps=paramGrid,\n",
    "                          evaluator=evaluator,\n",
    "                          numFolds=5)  # Using 5-fold cross-validation\n",
    "\n",
    "# Run cross-validation to find the best model\n",
    "cvModel = crossval.fit(assembled_df)\n",
    "\n",
    "# Get the best model\n",
    "bestModel = cvModel.bestModel"
   ]
  },
  {
   "cell_type": "code",
   "execution_count": 47,
   "id": "26f2731f-4d60-4b5e-939e-3d07e39fab1c",
   "metadata": {},
   "outputs": [
    {
     "name": "stdout",
     "output_type": "stream",
     "text": [
      "+------------+----------+----------------------------------------+\n",
      "|binary_label|prediction|probability                             |\n",
      "+------------+----------+----------------------------------------+\n",
      "|1           |1.0       |[0.19533604077377553,0.8046639592262245]|\n",
      "|1           |1.0       |[0.19533604077377553,0.8046639592262245]|\n",
      "|1           |1.0       |[0.19533604077377553,0.8046639592262245]|\n",
      "|1           |1.0       |[0.19533604077377553,0.8046639592262245]|\n",
      "|1           |1.0       |[0.19533604077377553,0.8046639592262245]|\n",
      "|0           |1.0       |[0.19533604077377553,0.8046639592262245]|\n",
      "|0           |1.0       |[0.19533604077377553,0.8046639592262245]|\n",
      "|1           |1.0       |[0.19533604077377553,0.8046639592262245]|\n",
      "|1           |1.0       |[0.18474122117680133,0.8152587788231986]|\n",
      "|1           |1.0       |[0.18474122117680133,0.8152587788231986]|\n",
      "|1           |1.0       |[0.18474122117680133,0.8152587788231986]|\n",
      "|0           |1.0       |[0.18474122117680133,0.8152587788231986]|\n",
      "|1           |1.0       |[0.18474122117680133,0.8152587788231986]|\n",
      "|1           |1.0       |[0.18474122117680133,0.8152587788231986]|\n",
      "|1           |1.0       |[0.18474122117680133,0.8152587788231986]|\n",
      "|0           |1.0       |[0.18474122117680133,0.8152587788231986]|\n",
      "|1           |1.0       |[0.18474122117680133,0.8152587788231986]|\n",
      "|1           |0.0       |[0.594649214131834,0.405350785868166]   |\n",
      "|0           |0.0       |[0.594649214131834,0.405350785868166]   |\n",
      "|0           |0.0       |[0.594649214131834,0.405350785868166]   |\n",
      "+------------+----------+----------------------------------------+\n",
      "only showing top 20 rows\n",
      "\n",
      "Best Model Params: bootstrap: Whether bootstrap samples are used when building trees. (default: True)\n",
      "cacheNodeIds: If false, the algorithm will pass trees to executors to match instances with nodes. If true, the algorithm will cache node IDs for each instance. Caching can speed up training of deeper trees. Users can set how often should the cache be checkpointed or disable it by setting checkpointInterval. (default: False)\n",
      "checkpointInterval: set checkpoint interval (>= 1) or disable checkpoint (-1). E.g. 10 means that the cache will get checkpointed every 10 iterations. Note: this setting will be ignored if the checkpoint directory is not set in the SparkContext. (default: 10)\n",
      "featureSubsetStrategy: The number of features to consider for splits at each tree node. Supported options: 'auto' (choose automatically for task: If numTrees == 1, set to 'all'. If numTrees > 1 (forest), set to 'sqrt' for classification and to 'onethird' for regression), 'all' (use all features), 'onethird' (use 1/3 of the features), 'sqrt' (use sqrt(number of features)), 'log2' (use log2(number of features)), 'n' (when n is in the range (0, 1.0], use n * number of features. When n is in the range (1, number of features), use n features). default = 'auto' (default: auto)\n",
      "featuresCol: features column name. (default: features, current: features)\n",
      "impurity: Criterion used for information gain calculation (case-insensitive). Supported options: entropy, gini (default: gini)\n",
      "labelCol: label column name. (default: label, current: binary_label)\n",
      "leafCol: Leaf indices column name. Predicted leaf index of each instance in each tree by preorder. (default: )\n",
      "maxBins: Max number of bins for discretizing continuous features.  Must be >=2 and >= number of categories for any categorical feature. (default: 32, current: 32)\n",
      "maxDepth: Maximum depth of the tree. (>= 0) E.g., depth 0 means 1 leaf node; depth 1 means 1 internal node + 2 leaf nodes. Must be in range [0, 30]. (default: 5, current: 20)\n",
      "maxMemoryInMB: Maximum memory in MB allocated to histogram aggregation. If too small, then 1 node will be split per iteration, and its aggregates may exceed this size. (default: 256)\n",
      "minInfoGain: Minimum information gain for a split to be considered at a tree node. (default: 0.0)\n",
      "minInstancesPerNode: Minimum number of instances each child must have after split. If a split causes the left or right child to have fewer than minInstancesPerNode, the split will be discarded as invalid. Should be >= 1. (default: 1)\n",
      "minWeightFractionPerNode: Minimum fraction of the weighted sample count that each child must have after split. If a split causes the fraction of the total weight in the left or right child to be less than minWeightFractionPerNode, the split will be discarded as invalid. Should be in interval [0.0, 0.5). (default: 0.0)\n",
      "numTrees: Number of trees to train (>= 1). (default: 20, current: 10)\n",
      "predictionCol: prediction column name. (default: prediction)\n",
      "probabilityCol: Column name for predicted class conditional probabilities. Note: Not all models output well-calibrated probability estimates! These probabilities should be treated as confidences, not precise probabilities. (default: probability)\n",
      "rawPredictionCol: raw prediction (a.k.a. confidence) column name. (default: rawPrediction)\n",
      "seed: random seed. (default: 8715829660020453893)\n",
      "subsamplingRate: Fraction of the training data used for learning each decision tree, in range (0, 1]. (default: 1.0)\n",
      "thresholds: Thresholds in multi-class classification to adjust the probability of predicting each class. Array must have length equal to the number of classes, with values > 0, excepting that at most one value may be 0. The class with largest value p/t is predicted, where p is the original probability of that class and t is the class's threshold. (undefined)\n",
      "weightCol: weight column name. If this is not set or empty, we treat all instance weights as 1.0. (undefined)\n"
     ]
    }
   ],
   "source": [
    "# Using the best model for predictions\n",
    "bestPredictions = bestModel.transform(assembled_df)\n",
    "\n",
    "# Display the first 50 prediction results\n",
    "bestPredictions.select(\"binary_label\", \"prediction\", \"probability\").show(truncate=False)\n",
    "print(\"Best Model Params:\", bestModel.explainParams())"
   ]
  },
  {
   "cell_type": "code",
   "execution_count": 48,
   "id": "5551c685-ef20-4691-92be-10e5181260a1",
   "metadata": {},
   "outputs": [
    {
     "name": "stdout",
     "output_type": "stream",
     "text": [
      "+----------+-----+\n",
      "|prediction|count|\n",
      "+----------+-----+\n",
      "|       0.0|  355|\n",
      "|       1.0|  512|\n",
      "+----------+-----+\n",
      "\n"
     ]
    }
   ],
   "source": [
    "best_prediction_counts = bestPredictions.groupBy(\"prediction\").count()\n",
    "# result\n",
    "best_prediction_counts.show()"
   ]
  },
  {
   "cell_type": "code",
   "execution_count": 49,
   "id": "92e3f61b-d644-43ac-9b0f-a1da7293e31c",
   "metadata": {},
   "outputs": [
    {
     "name": "stdout",
     "output_type": "stream",
     "text": [
      "+----------+-----+-------------------+\n",
      "|prediction|count|         percentage|\n",
      "+----------+-----+-------------------+\n",
      "|       0.0|  355|0.40945790080738176|\n",
      "|       1.0|  512| 0.5905420991926182|\n",
      "+----------+-----+-------------------+\n",
      "\n",
      "Biden win probability: 40.95%\n",
      "Trump win probability: 59.05%\n"
     ]
    }
   ],
   "source": [
    "\n",
    "total_count = best_prediction_counts.groupBy().sum(\"count\").collect()[0][0]\n",
    "from pyspark.sql.functions import col\n",
    "\n",
    "# Adding a percentage column\n",
    "best_prediction_counts = best_prediction_counts.withColumn(\"percentage\", col(\"count\") / total_count)\n",
    "\n",
    "# Display the updated DataFrame\n",
    "best_prediction_counts.show()\n",
    "# Collect data for use in Python\n",
    "collected_data = best_prediction_counts.collect()\n",
    "\n",
    "# Iterate and print specific prediction probabilities\n",
    "for row in collected_data:\n",
    "    if row.prediction == 0.0:\n",
    "        print(f\"Biden win probability: {row.percentage * 100:.2f}%\")\n",
    "    elif row.prediction == 1.0:\n",
    "        print(f\"Trump win probability: {row.percentage * 100:.2f}%\")\n"
   ]
  },
  {
   "cell_type": "markdown",
   "id": "191da849-33af-4a73-b26c-d09573c73ca7",
   "metadata": {},
   "source": [
    "### Evaluation"
   ]
  },
  {
   "cell_type": "code",
   "execution_count": 50,
   "id": "07c661c0-0127-4580-825c-a0e8423102b3",
   "metadata": {},
   "outputs": [
    {
     "name": "stderr",
     "output_type": "stream",
     "text": [
      "                                                                                \r"
     ]
    },
    {
     "name": "stdout",
     "output_type": "stream",
     "text": [
      "Area under ROC = 0.715109775623451\n",
      "Area under PR = 0.7803057228360594\n"
     ]
    },
    {
     "data": {
      "image/png": "[encoded data removed]",
      "text/plain": [
       "<Figure size 640x480 with 1 Axes>"
      ]
     },
     "metadata": {},
     "output_type": "display_data"
    }
   ],
   "source": [
    "from pyspark.mllib.evaluation import BinaryClassificationMetrics\n",
    "from sklearn.metrics import roc_curve, auc\n",
    "import matplotlib.pyplot as plt\n",
    "\n",
    "# Obtain probabilities and actual labels\n",
    "probabilities = bestPredictions.select(\"probability\").rdd.map(lambda x: x[0][1]).collect()\n",
    "labels = bestPredictions.select(\"binary_label\").rdd.map(lambda x: x[0]).collect()\n",
    "\n",
    "# Convert results to RDD and compute evaluation metrics\n",
    "results_rdd = bestPredictions.select(['probability', 'binary_label']).rdd.map(lambda row: (float(row['probability'][1]), float(row['binary_label'])))\n",
    "metrics = BinaryClassificationMetrics(results_rdd)\n",
    "\n",
    "# Output AUC calculated by PySpark\n",
    "print(\"Area under ROC = %s\" % metrics.areaUnderROC)\n",
    "print(\"Area under PR = %s\" % metrics.areaUnderPR)\n",
    "\n",
    "# Use sklearn to calculate the ROC curve\n",
    "fpr, tpr, thresholds = roc_curve(labels, probabilities)\n",
    "roc_auc = auc(fpr, tpr)\n",
    "\n",
    "# Plot the ROC curve\n",
    "plt.figure()\n",
    "plt.plot(fpr, tpr, color='darkorange', lw=2, label='ROC curve (area = %0.2f)' % roc_auc)\n",
    "plt.plot([0, 1], [0, 1], color='navy', lw=2, linestyle='--')\n",
    "plt.xlim([0.0, 1.0])\n",
    "plt.ylim([0.0, 1.05])\n",
    "plt.xlabel('False Positive Rate')\n",
    "plt.ylabel('True Positive Rate')\n",
    "plt.title('Receiver Operating Characteristic')\n",
    "plt.legend(loc=\"lower right\")\n",
    "plt.show()\n"
   ]
  },
  {
   "cell_type": "code",
   "execution_count": 51,
   "id": "043559d4-cc7c-4fea-aba0-c75323e32482",
   "metadata": {},
   "outputs": [
    {
     "name": "stdout",
     "output_type": "stream",
     "text": [
      "Accuracy = 0.6608996539792388\n",
      "Weighted Precision = 0.6603578543057653\n",
      "Weighted Recall = 0.6608996539792388\n",
      "F1 Score = 0.6606146957052716\n"
     ]
    }
   ],
   "source": [
    "from pyspark.ml.evaluation import MulticlassClassificationEvaluator\n",
    "\n",
    "# Create an instance of the evaluator\n",
    "evaluator = MulticlassClassificationEvaluator(labelCol=\"binary_label\", predictionCol=\"prediction\")\n",
    "\n",
    "# Calculate accuracy\n",
    "accuracy = evaluator.evaluate(bestPredictions, {evaluator.metricName: \"accuracy\"})\n",
    "print(\"Accuracy = %s\" % accuracy)\n",
    "\n",
    "# Calculate weighted precision\n",
    "weightedPrecision = evaluator.evaluate(bestPredictions, {evaluator.metricName: \"weightedPrecision\"})\n",
    "print(\"Weighted Precision = %s\" % weightedPrecision)\n",
    "\n",
    "# Calculate weighted recall\n",
    "weightedRecall = evaluator.evaluate(bestPredictions, {evaluator.metricName: \"weightedRecall\"})\n",
    "print(\"Weighted Recall = %s\" % weightedRecall)\n",
    "\n",
    "# Calculate F1 score\n",
    "f1 = evaluator.evaluate(bestPredictions, {evaluator.metricName: \"f1\"})\n",
    "print(\"F1 Score = %s\" % f1)\n"
   ]
  },
  {
   "cell_type": "code",
   "execution_count": 52,
   "id": "8e0457ee-d512-4194-a71f-b30be985560e",
   "metadata": {},
   "outputs": [
    {
     "name": "stdout",
     "output_type": "stream",
     "text": [
      "Confusion Matrix:\n",
      " [[210. 149.]\n",
      " [145. 363.]]\n"
     ]
    }
   ],
   "source": [
    "from pyspark.mllib.evaluation import MulticlassMetrics\n",
    "\n",
    "# Convert data to RDD for evaluation\n",
    "predictionAndLabels = bestPredictions.select(\"prediction\", \"binary_label\").rdd.map(lambda r: (float(r[0]), float(r[1])))\n",
    "\n",
    "# Initialize a multiclass metrics object\n",
    "metrics = MulticlassMetrics(predictionAndLabels)\n",
    "\n",
    "# Retrieve and print the confusion matrix\n",
    "confusion_matrix = metrics.confusionMatrix().toArray()\n",
    "print(\"Confusion Matrix:\\n\", confusion_matrix)\n"
   ]
  },
  {
   "cell_type": "code",
   "execution_count": 53,
   "id": "0a078eb0-32e5-4940-8433-34ad436cbdc5",
   "metadata": {},
   "outputs": [
    {
     "data": {
      "image/png": "[encoded data removed]",
      "text/plain": [
       "<Figure size 1000x800 with 2 Axes>"
      ]
     },
     "metadata": {},
     "output_type": "display_data"
    }
   ],
   "source": [
    "import seaborn as sns\n",
    "import matplotlib.pyplot as plt\n",
    "\n",
    "# Set the size of the heatmap\n",
    "plt.figure(figsize=(10, 8))\n",
    "\n",
    "# Create the heatmap\n",
    "sns.heatmap(confusion_matrix, annot=True, fmt=\"g\", cmap='Blues', square=True)\n",
    "\n",
    "# Add title and labels\n",
    "plt.title('Confusion Matrix')\n",
    "plt.xlabel('Predicted Labels')\n",
    "plt.ylabel('True Labels')\n",
    "\n",
    "# Adjust the layout\n",
    "plt.tight_layout()\n",
    "\n",
    "# Display the plot\n",
    "plt.show()\n"
   ]
  },
  {
   "cell_type": "code",
   "execution_count": 54,
   "id": "d1ed4143-f412-4745-ae21-1356ce13dbbc",
   "metadata": {},
   "outputs": [],
   "source": [
    "spark.stop()"
   ]
  }
 ],
 "metadata": {
  "kernelspec": {
   "display_name": "Python 3 (ipykernel)",
   "language": "python",
   "name": "python3"
  },
  "language_info": {
   "codemirror_mode": {
    "name": "ipython",
    "version": 3
   },
   "file_extension": ".py",
   "mimetype": "text/x-python",
   "name": "python",
   "nbconvert_exporter": "python",
   "pygments_lexer": "ipython3",
   "version": "3.10.5"
  }
 },
 "nbformat": 4,
 "nbformat_minor": 5
}
