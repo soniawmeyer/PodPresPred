{
 "cells": [
  {
   "cell_type": "code",
   "execution_count": 1,
   "id": "026babc6-1750-4ca9-b285-8dd3c7fb806c",
   "metadata": {},
   "outputs": [
    {
     "name": "stderr",
     "output_type": "stream",
     "text": [
      "Setting default log level to \"WARN\".\n",
      "To adjust logging level use sc.setLogLevel(newLevel). For SparkR, use setLogLevel(newLevel).\n",
      "24/05/11 20:37:16 WARN NativeCodeLoader: Unable to load native-hadoop library for your platform... using builtin-java classes where applicable\n",
      "                                                                                \r"
     ]
    },
    {
     "name": "stdout",
     "output_type": "stream",
     "text": [
      "root\n",
      " |-- segment_id: long (nullable = true)\n",
      " |-- podcast_name_cleaned: string (nullable = true)\n",
      " |-- features: vector (nullable = true)\n",
      " |-- label: string (nullable = true)\n",
      "\n"
     ]
    },
    {
     "name": "stderr",
     "output_type": "stream",
     "text": [
      "                                                                                \r"
     ]
    },
    {
     "name": "stdout",
     "output_type": "stream",
     "text": [
      "+----------+--------------------+--------------------+-----+\n",
      "|segment_id|podcast_name_cleaned|            features|label|\n",
      "+----------+--------------------+--------------------+-----+\n",
      "|         0|Bill OReillys No ...|[-4.0,-0.02415416...|  0.8|\n",
      "|         0|Bill OReillys No ...|[-4.0,-0.02415416...|  0.5|\n",
      "|         0|Bill OReillys No ...|[-4.0,-0.02415416...|  0.8|\n",
      "|         0|Bill OReillys No ...|[-4.0,-0.02415416...|    1|\n",
      "|         0|Bill OReillys No ...|[-4.0,-0.02415416...|  0.7|\n",
      "|         0|Bill OReillys No ...|[-4.0,-0.02415416...|  0.2|\n",
      "|         0|Bill OReillys No ...|[-4.0,-0.02415416...|  0.4|\n",
      "|         0|Bill OReillys No ...|[-4.0,-0.02415416...|  0.5|\n",
      "|         1|    pod save america|[10.0,-0.01585099...|  0.5|\n",
      "|         1|    pod save america|[10.0,-0.01585099...|  0.7|\n",
      "|         1|    pod save america|[10.0,-0.01585099...|  0.8|\n",
      "|         1|    pod save america|[10.0,-0.01585099...|  0.1|\n",
      "|         1|    pod save america|[10.0,-0.01585099...|  0.9|\n",
      "|         1|    pod save america|[10.0,-0.01585099...|  0.6|\n",
      "|         1|    pod save america|[10.0,-0.01585099...|  0.9|\n",
      "|         1|    pod save america|[10.0,-0.01585099...|  0.3|\n",
      "|         1|    pod save america|[10.0,-0.01585099...|  0.9|\n",
      "|         2|Bill OReillys No ...|[29.0,-0.03721171...|  0.7|\n",
      "|         2|Bill OReillys No ...|[29.0,-0.03721171...|  0.3|\n",
      "|         2|Bill OReillys No ...|[29.0,-0.03721171...|  0.1|\n",
      "+----------+--------------------+--------------------+-----+\n",
      "only showing top 20 rows\n",
      "\n"
     ]
    }
   ],
   "source": [
    "#INITIALIZE SPARK SESSION\n",
    "from pyspark.sql import SparkSession\n",
    "spark = SparkSession.builder.appName(\"PodPres\").getOrCreate()\n",
    "\n",
    "assembled_df = spark.read.parquet(\"final_features_human_labels.parquet\")\n",
    "assembled_df.printSchema()\n",
    "assembled_df.show() "
   ]
  },
  {
   "cell_type": "code",
   "execution_count": 2,
   "id": "5ed36f8a-1fd4-4271-9fbc-2851c6f7e28b",
   "metadata": {},
   "outputs": [],
   "source": [
    "train_data, test_data = assembled_df.randomSplit([0.7, 0.3])\n",
    "from pyspark.sql.functions import col\n",
    "from pyspark.sql.types import FloatType\n",
    "\n",
    "# Convert the data type of the 'label' column from string to float\n",
    "train_data = train_data.withColumn(\"label\", col(\"label\").cast(FloatType()))\n",
    "test_data = test_data.withColumn(\"label\", col(\"label\").cast(FloatType()))\n"
   ]
  },
  {
   "cell_type": "code",
   "execution_count": 3,
   "id": "57ea423d-14ce-4b17-b804-169d94652b58",
   "metadata": {},
   "outputs": [
    {
     "name": "stderr",
     "output_type": "stream",
     "text": [
      "24/05/11 20:37:26 WARN Instrumentation: [2b58c1d5] regParam is zero, which might cause numerical instability and overfitting.\n",
      "24/05/11 20:37:26 WARN InstanceBuilder: Failed to load implementation from:dev.ludovic.netlib.blas.JNIBLAS\n",
      "24/05/11 20:37:26 WARN InstanceBuilder: Failed to load implementation from:dev.ludovic.netlib.blas.VectorBLAS\n",
      "24/05/11 20:37:27 WARN InstanceBuilder: Failed to load implementation from:dev.ludovic.netlib.lapack.JNILAPACK\n",
      "24/05/11 20:37:27 WARN Instrumentation: [2b58c1d5] Cholesky solver failed due to singular covariance matrix. Retrying with Quasi-Newton solver.\n"
     ]
    }
   ],
   "source": [
    "from pyspark.ml.regression import LinearRegression\n",
    "\n",
    "lr = LinearRegression(featuresCol='features', labelCol='label')\n",
    "lrModel = lr.fit(train_data)\n"
   ]
  },
  {
   "cell_type": "code",
   "execution_count": 4,
   "id": "10abb538-1b52-4c92-b8f3-f9e2649d1cea",
   "metadata": {},
   "outputs": [
    {
     "name": "stdout",
     "output_type": "stream",
     "text": [
      "+-----+-----+------------------+\n",
      "|label|count|        percentage|\n",
      "+-----+-----+------------------+\n",
      "|  0.1|   97|16.086235489220563|\n",
      "|  0.6|   19| 3.150912106135987|\n",
      "|  0.9|   73|12.106135986733001|\n",
      "|  0.5|  105|17.412935323383085|\n",
      "|  1.0|   56| 9.286898839137644|\n",
      "|  0.3|   38| 6.301824212271974|\n",
      "|  0.4|   24|3.9800995024875623|\n",
      "|  0.8|   75|12.437810945273633|\n",
      "|  0.2|   64|10.613598673300165|\n",
      "|  0.0|   22|3.6484245439469323|\n",
      "|  0.7|   30| 4.975124378109453|\n",
      "+-----+-----+------------------+\n",
      "\n"
     ]
    }
   ],
   "source": [
    "from pyspark.sql.functions import col, count, lit\n",
    "\n",
    "# Calculate the total number of rows to compute proportions\n",
    "total_count = train_data.count()\n",
    "\n",
    "# Group by the 'label' column and calculate the count of each label\n",
    "label_distribution = train_data.groupBy(\"label\").count()\n",
    "\n",
    "# Calculate the percentage of each label\n",
    "label_distribution = label_distribution.withColumn(\"percentage\", (col(\"count\") / lit(total_count) * 100))\n",
    "\n",
    "# Display the results\n",
    "label_distribution.show()\n"
   ]
  },
  {
   "cell_type": "code",
   "execution_count": 5,
   "id": "8065403b-d94b-46ea-8972-4ccc03059a78",
   "metadata": {},
   "outputs": [
    {
     "name": "stdout",
     "output_type": "stream",
     "text": [
      "+-------+-------------------+\n",
      "|summary|              label|\n",
      "+-------+-------------------+\n",
      "|  count|                603|\n",
      "|   mean| 0.5142620235162588|\n",
      "| stddev|0.32153428188937944|\n",
      "|    min|                0.0|\n",
      "|    max|                1.0|\n",
      "+-------+-------------------+\n",
      "\n"
     ]
    }
   ],
   "source": [
    "# Get the statistical summary for the \"label\" column\n",
    "train_data.describe(\"label\").show()"
   ]
  },
  {
   "cell_type": "code",
   "execution_count": 14,
   "id": "0be1656b-885d-47d0-b22f-6e489e09ad14",
   "metadata": {},
   "outputs": [
    {
     "name": "stderr",
     "output_type": "stream",
     "text": [
      "                                                                                \r"
     ]
    },
    {
     "data": {
      "image/png": "[encoded data removed]",
      "text/plain": [
       "<Figure size 640x480 with 1 Axes>"
      ]
     },
     "metadata": {},
     "output_type": "display_data"
    }
   ],
   "source": [
    "import matplotlib.pyplot as plt\n",
    "\n",
    "# Retrieve the \"label\" data\n",
    "label_data = train_data.select(\"label\").rdd.flatMap(lambda x: x).collect()\n",
    "\n",
    "# Plot the histogram\n",
    "plt.hist(label_data, bins=50)  # bins参数根据数据的具体情况调整\n",
    "plt.title('Distribution of Label')\n",
    "plt.xlabel('Label')\n",
    "plt.ylabel('Frequency')\n",
    "plt.show()\n"
   ]
  },
  {
   "cell_type": "code",
   "execution_count": 6,
   "id": "cad9f1ad-ede4-4518-868a-4bf3b4e01c06",
   "metadata": {},
   "outputs": [
    {
     "name": "stdout",
     "output_type": "stream",
     "text": [
      "+-----+-------------------+\n",
      "|label|         prediction|\n",
      "+-----+-------------------+\n",
      "|  0.2| 0.5849780585533232|\n",
      "|  0.8| 0.5849780585533232|\n",
      "|  0.0| 0.5117623970383736|\n",
      "|  0.3| 0.5117623970383736|\n",
      "|  0.7| 0.5117623970383736|\n",
      "|  0.8| 0.5117623970383736|\n",
      "|  0.1|0.43641893688005473|\n",
      "|  0.3|0.43641893688005473|\n",
      "|  0.5|0.43641893688005473|\n",
      "|  0.9|0.43641893688005473|\n",
      "|  0.1| 0.6829381313797196|\n",
      "|  0.3| 0.6829381313797196|\n",
      "|  0.5| 0.6829381313797196|\n",
      "|  0.4| 0.3444479028914791|\n",
      "|  0.1| 0.5040258353172603|\n",
      "|  0.1| 0.3678750781352978|\n",
      "|  0.1| 0.3678750781352978|\n",
      "|  0.7| 0.3678750781352978|\n",
      "|  0.8| 0.3678750781352978|\n",
      "|  0.9| 0.3678750781352978|\n",
      "+-----+-------------------+\n",
      "only showing top 20 rows\n",
      "\n"
     ]
    }
   ],
   "source": [
    "# Use the trained model to make predictions on the test data\n",
    "predictions = lrModel.transform(test_data)\n",
    "# Display the first 20 prediction results alongside the actual label values\n",
    "predictions.select(\"label\", \"prediction\").show(20)"
   ]
  },
  {
   "cell_type": "code",
   "execution_count": 7,
   "id": "fd03aa74-4908-4bac-9cec-0ae7903ccc21",
   "metadata": {},
   "outputs": [
    {
     "name": "stdout",
     "output_type": "stream",
     "text": [
      "+-------+------------------+\n",
      "|summary|             label|\n",
      "+-------+------------------+\n",
      "|  count|               264|\n",
      "|   mean|0.4867424244964213|\n",
      "| stddev|0.3287468887383279|\n",
      "|    min|               0.0|\n",
      "|    max|               1.0|\n",
      "+-------+------------------+\n",
      "\n"
     ]
    },
    {
     "name": "stderr",
     "output_type": "stream",
     "text": [
      "24/05/11 20:37:31 WARN GarbageCollectionMetrics: To enable non-built-in garbage collector(s) List(G1 Concurrent GC), users should configure it(them) to spark.eventLog.gcMetrics.youngGenerationGarbageCollectors or spark.eventLog.gcMetrics.oldGenerationGarbageCollectors\n"
     ]
    }
   ],
   "source": [
    "test_data.describe(\"label\").show()"
   ]
  },
  {
   "cell_type": "code",
   "execution_count": 8,
   "id": "99afe934-70d0-47b9-9f25-416b1f21fe9e",
   "metadata": {},
   "outputs": [
    {
     "name": "stdout",
     "output_type": "stream",
     "text": [
      "Trump Win Probability: 0.51\n",
      "Biden Win Probability: 0.49\n"
     ]
    }
   ],
   "source": [
    "from pyspark.sql.functions import avg\n",
    "\n",
    "# Calculate the average value of the 'prediction' column\n",
    "trump_win_probability = predictions.agg(avg(\"prediction\")).first()[0]\n",
    "\n",
    "# Output the probability of Trump winning\n",
    "print(f\"Trump Win Probability: {trump_win_probability:.2f}\")\n",
    "\n",
    "biden_win_probability = 1-trump_win_probability\n",
    "\n",
    "# Output the probability of Biden winning\n",
    "print(f\"Biden Win Probability: {biden_win_probability:.2f}\")\n"
   ]
  },
  {
   "cell_type": "code",
   "execution_count": 9,
   "id": "c62a568e-512a-4c70-8807-57e5da29be45",
   "metadata": {},
   "outputs": [
    {
     "name": "stdout",
     "output_type": "stream",
     "text": [
      "+----------+--------------------+--------------------+-----+------------------+\n",
      "|segment_id|podcast_name_cleaned|            features|label|        prediction|\n",
      "+----------+--------------------+--------------------+-----+------------------+\n",
      "|         0|Bill OReillys No ...|[-4.0,-0.02415416...|  0.2|0.5142620235162588|\n",
      "|         0|Bill OReillys No ...|[-4.0,-0.02415416...|  0.8|0.5142620235162588|\n",
      "|         2|Bill OReillys No ...|[29.0,-0.03721171...|  0.0|0.5142620235162588|\n",
      "|         2|Bill OReillys No ...|[29.0,-0.03721171...|  0.3|0.5142620235162588|\n",
      "|         2|Bill OReillys No ...|[29.0,-0.03721171...|  0.7|0.5142620235162588|\n",
      "|         2|Bill OReillys No ...|[29.0,-0.03721171...|  0.8|0.5142620235162588|\n",
      "|         3|The Charlie Kirk ...|[20.0,-0.02749935...|  0.1|0.5142620235162588|\n",
      "|         3|The Charlie Kirk ...|[20.0,-0.02749935...|  0.3|0.5142620235162588|\n",
      "|         3|The Charlie Kirk ...|[20.0,-0.02749935...|  0.5|0.5142620235162588|\n",
      "|         3|The Charlie Kirk ...|[20.0,-0.02749935...|  0.9|0.5142620235162588|\n",
      "|         4|The Clay Travis a...|[19.0,-0.00693044...|  0.1|0.5142620235162588|\n",
      "|         4|The Clay Travis a...|[19.0,-0.00693044...|  0.3|0.5142620235162588|\n",
      "|         4|The Clay Travis a...|[19.0,-0.00693044...|  0.5|0.5142620235162588|\n",
      "|         5|      The Wilderness|[54.0,-0.01027246...|  0.4|0.5142620235162588|\n",
      "|         6|      The Wilderness|[16.0,-0.01149218...|  0.1|0.5142620235162588|\n",
      "|         7|         Steve Deace|[14.0,-0.02041692...|  0.1|0.5142620235162588|\n",
      "|         7|         Steve Deace|[14.0,-0.02041692...|  0.1|0.5142620235162588|\n",
      "|         7|         Steve Deace|[14.0,-0.02041692...|  0.7|0.5142620235162588|\n",
      "|         7|         Steve Deace|[14.0,-0.02041692...|  0.8|0.5142620235162588|\n",
      "|         7|         Steve Deace|[14.0,-0.02041692...|  0.9|0.5142620235162588|\n",
      "+----------+--------------------+--------------------+-----+------------------+\n",
      "only showing top 20 rows\n",
      "\n"
     ]
    }
   ],
   "source": [
    "from pyspark.ml.tuning import ParamGridBuilder, CrossValidator\n",
    "from pyspark.ml.evaluation import RegressionEvaluator\n",
    "\n",
    "# Create parameter grid\n",
    "paramGrid = ParamGridBuilder() \\\n",
    "    .addGrid(lr.regParam, [0.1, 0.01]) \\\n",
    "    .addGrid(lr.fitIntercept, [False, True]) \\\n",
    "    .addGrid(lr.elasticNetParam, [0.0, 0.5, 1.0]) \\\n",
    "    .build()\n",
    "\n",
    "# Set up cross-validation\n",
    "crossval = CrossValidator(estimator=lr,\n",
    "                          estimatorParamMaps=paramGrid,\n",
    "                          evaluator=RegressionEvaluator(labelCol=\"label\"),\n",
    "                          numFolds=5)  # 使用3折交叉验证\n",
    "\n",
    "\n",
    "# Run cross-validation to choose the best parameter combination\n",
    "cvModel = crossval.fit(train_data)\n",
    "\n",
    "# Save the model\n",
    "#cvModel.bestModel.save(\"/Users/zhuyijie/Desktop/228/PodPresPred/\")\n",
    "\n",
    "# Make predictions using the best model\n",
    "bestModelPredictions = cvModel.bestModel.transform(test_data)\n",
    "bestModelPredictions.show()\n"
   ]
  },
  {
   "cell_type": "code",
   "execution_count": 10,
   "id": "534eb2ef-47c1-4895-a367-e37c775f9937",
   "metadata": {},
   "outputs": [
    {
     "name": "stdout",
     "output_type": "stream",
     "text": [
      "Trump Win Probability: 0.51\n",
      "Biden Win Probability: 0.49\n"
     ]
    }
   ],
   "source": [
    "from pyspark.sql.functions import avg\n",
    "\n",
    "# Calculate the average value of the 'prediction' column\n",
    "trump_win_probability_best = bestModelPredictions.agg(avg(\"prediction\")).first()[0]\n",
    "\n",
    "# Output the probability of Trump winning\n",
    "print(f\"Trump Win Probability: {trump_win_probability_best:.2f}\")\n",
    "\n",
    "biden_win_probability_best = 1-trump_win_probability_best\n",
    "\n",
    "# Output the probability of Biden winning\n",
    "print(f\"Biden Win Probability: {biden_win_probability_best:.2f}\")"
   ]
  },
  {
   "cell_type": "code",
   "execution_count": 11,
   "id": "77dc637f-e5aa-4611-b0d3-7c0d4240474b",
   "metadata": {},
   "outputs": [
    {
     "name": "stdout",
     "output_type": "stream",
     "text": [
      "Root Mean Squared Error (RMSE) on test data = 0.32927567783764006\n"
     ]
    }
   ],
   "source": [
    "from pyspark.ml.evaluation import RegressionEvaluator\n",
    "\n",
    "# Create an evaluator instance to calculate RMSE\n",
    "evaluator = RegressionEvaluator(\n",
    "    labelCol=\"label\",\n",
    "    predictionCol=\"prediction\",\n",
    "    metricName=\"rmse\"\n",
    ")\n",
    "\n",
    "# Use the evaluator to calculate RMSE\n",
    "rmse = evaluator.evaluate(bestModelPredictions)\n",
    "print(f\"Root Mean Squared Error (RMSE) on test data = {rmse}\")\n"
   ]
  },
  {
   "cell_type": "code",
   "execution_count": 12,
   "id": "4c9a5f02-2878-4d47-9405-06984e75f1f4",
   "metadata": {},
   "outputs": [],
   "source": [
    "# Convert the Spark DataFrame to a Pandas DataFrame\n",
    "pandas_df = bestModelPredictions.select(\"label\", \"prediction\").toPandas()"
   ]
  },
  {
   "cell_type": "code",
   "execution_count": 13,
   "id": "3bdf3901-a873-4691-bbe7-3c09b1306048",
   "metadata": {},
   "outputs": [
    {
     "data": {
      "image/png": "[encoded data removed]",
      "text/plain": [
       "<Figure size 1000x600 with 1 Axes>"
      ]
     },
     "metadata": {},
     "output_type": "display_data"
    }
   ],
   "source": [
    "import matplotlib.pyplot as plt\n",
    "\n",
    "plt.figure(figsize=(10, 6))\n",
    "plt.scatter(pandas_df['label'], pandas_df['prediction'], alpha=0.5)\n",
    "plt.title('Actual vs. Predicted')\n",
    "plt.xlabel('Actual Labels')\n",
    "plt.ylabel('Predicted Labels')\n",
    "plt.plot([pandas_df['label'].min(), pandas_df['label'].max()], [pandas_df['label'].min(), pandas_df['label'].max()], 'k--', lw=4)\n",
    "plt.show()\n"
   ]
  },
  {
   "cell_type": "code",
   "execution_count": null,
   "id": "aa925e21-1e33-48a2-be67-69e0e008b9fa",
   "metadata": {},
   "outputs": [],
   "source": []
  }
 ],
 "metadata": {
  "kernelspec": {
   "display_name": "Python 3 (ipykernel)",
   "language": "python",
   "name": "python3"
  },
  "language_info": {
   "codemirror_mode": {
    "name": "ipython",
    "version": 3
   },
   "file_extension": ".py",
   "mimetype": "text/x-python",
   "name": "python",
   "nbconvert_exporter": "python",
   "pygments_lexer": "ipython3",
   "version": "3.10.5"
  }
 },
 "nbformat": 4,
 "nbformat_minor": 5
}
