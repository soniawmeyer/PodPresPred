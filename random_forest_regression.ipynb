{
 "cells": [
  {
   "cell_type": "code",
   "execution_count": 1,
   "id": "a9952e23-21a3-4f4d-9c0c-33771415ee13",
   "metadata": {},
   "outputs": [
    {
     "name": "stderr",
     "output_type": "stream",
     "text": [
      "Setting default log level to \"WARN\".\n",
      "To adjust logging level use sc.setLogLevel(newLevel). For SparkR, use setLogLevel(newLevel).\n",
      "24/05/12 15:37:53 WARN NativeCodeLoader: Unable to load native-hadoop library for your platform... using builtin-java classes where applicable\n",
      "24/05/12 15:37:54 WARN Utils: Service 'SparkUI' could not bind on port 4040. Attempting port 4041.\n",
      "24/05/12 15:37:54 WARN Utils: Service 'SparkUI' could not bind on port 4041. Attempting port 4042.\n",
      "24/05/12 15:37:54 WARN Utils: Service 'SparkUI' could not bind on port 4042. Attempting port 4043.\n",
      "                                                                                \r"
     ]
    },
    {
     "name": "stdout",
     "output_type": "stream",
     "text": [
      "root\n",
      " |-- segment_id: long (nullable = true)\n",
      " |-- podcast_name_cleaned: string (nullable = true)\n",
      " |-- features: vector (nullable = true)\n",
      " |-- label: string (nullable = true)\n",
      "\n"
     ]
    },
    {
     "name": "stderr",
     "output_type": "stream",
     "text": [
      "                                                                                \r"
     ]
    },
    {
     "name": "stdout",
     "output_type": "stream",
     "text": [
      "+----------+--------------------+--------------------+-----+\n",
      "|segment_id|podcast_name_cleaned|            features|label|\n",
      "+----------+--------------------+--------------------+-----+\n",
      "|         0|Bill OReillys No ...|[-4.0,-0.02415416...|  0.8|\n",
      "|         0|Bill OReillys No ...|[-4.0,-0.02415416...|  0.5|\n",
      "|         0|Bill OReillys No ...|[-4.0,-0.02415416...|  0.8|\n",
      "|         0|Bill OReillys No ...|[-4.0,-0.02415416...|    1|\n",
      "|         0|Bill OReillys No ...|[-4.0,-0.02415416...|  0.7|\n",
      "|         0|Bill OReillys No ...|[-4.0,-0.02415416...|  0.2|\n",
      "|         0|Bill OReillys No ...|[-4.0,-0.02415416...|  0.4|\n",
      "|         0|Bill OReillys No ...|[-4.0,-0.02415416...|  0.5|\n",
      "|         1|    pod save america|[10.0,-0.01585099...|  0.5|\n",
      "|         1|    pod save america|[10.0,-0.01585099...|  0.7|\n",
      "|         1|    pod save america|[10.0,-0.01585099...|  0.8|\n",
      "|         1|    pod save america|[10.0,-0.01585099...|  0.1|\n",
      "|         1|    pod save america|[10.0,-0.01585099...|  0.9|\n",
      "|         1|    pod save america|[10.0,-0.01585099...|  0.6|\n",
      "|         1|    pod save america|[10.0,-0.01585099...|  0.9|\n",
      "|         1|    pod save america|[10.0,-0.01585099...|  0.3|\n",
      "|         1|    pod save america|[10.0,-0.01585099...|  0.9|\n",
      "|         2|Bill OReillys No ...|[29.0,-0.03721171...|  0.7|\n",
      "|         2|Bill OReillys No ...|[29.0,-0.03721171...|  0.3|\n",
      "|         2|Bill OReillys No ...|[29.0,-0.03721171...|  0.1|\n",
      "+----------+--------------------+--------------------+-----+\n",
      "only showing top 20 rows\n",
      "\n"
     ]
    }
   ],
   "source": [
    "#INITIALIZE SPARK SESSION\n",
    "from pyspark.sql import SparkSession\n",
    "spark = SparkSession.builder.appName(\"PodPres\").getOrCreate()\n",
    "\n",
    "assembled_df = spark.read.parquet(\"final_features_human_labels.parquet\")\n",
    "assembled_df.printSchema()\n",
    "assembled_df.show() \n"
   ]
  },
  {
   "cell_type": "code",
   "execution_count": 2,
   "id": "43ccf38c-d1f7-4986-8301-746f7949660d",
   "metadata": {},
   "outputs": [],
   "source": [
    "from pyspark.sql.functions import rand\n",
    "\n",
    "# Shuffle the DataFrame\n",
    "shuffled_df = assembled_df.orderBy(rand())"
   ]
  },
  {
   "cell_type": "code",
   "execution_count": 3,
   "id": "916ec820-ed01-4abc-8729-55afaf5b3f02",
   "metadata": {},
   "outputs": [],
   "source": [
    "from pyspark.sql.functions import col\n",
    "from pyspark.sql.types import FloatType\n",
    "train_df, test_df = shuffled_df.randomSplit([0.8, 0.2], seed=42)\n",
    "train_df = train_df.withColumn(\"label\", col(\"label\").cast(FloatType()))\n",
    "test_df = test_df.withColumn(\"label\", col(\"label\").cast(FloatType()))"
   ]
  },
  {
   "cell_type": "code",
   "execution_count": 4,
   "id": "a324ad80-5e69-4e34-98fb-a043c1b19a3e",
   "metadata": {},
   "outputs": [
    {
     "name": "stdout",
     "output_type": "stream",
     "text": [
      "+-------+-------------------+\n",
      "|summary|              label|\n",
      "+-------+-------------------+\n",
      "|  count|                727|\n",
      "|   mean| 0.4993122421317776|\n",
      "| stddev|0.32568988952814487|\n",
      "|    min|                0.0|\n",
      "|    max|                1.0|\n",
      "+-------+-------------------+\n",
      "\n"
     ]
    }
   ],
   "source": [
    "# Get the statistical summary for the \"label\" column\n",
    "train_df.describe(\"label\").show()"
   ]
  },
  {
   "cell_type": "code",
   "execution_count": 5,
   "id": "965a9b5e-490f-495b-a754-d5cc88f17e51",
   "metadata": {},
   "outputs": [
    {
     "name": "stderr",
     "output_type": "stream",
     "text": [
      "24/05/12 15:38:05 WARN GarbageCollectionMetrics: To enable non-built-in garbage collector(s) List(G1 Concurrent GC), users should configure it(them) to spark.eventLog.gcMetrics.youngGenerationGarbageCollectors or spark.eventLog.gcMetrics.oldGenerationGarbageCollectors\n"
     ]
    },
    {
     "name": "stdout",
     "output_type": "stream",
     "text": [
      "+-----+-----+------------------+\n",
      "|label|count|        percentage|\n",
      "+-----+-----+------------------+\n",
      "|  0.1|  126| 17.33149931224209|\n",
      "|  0.6|   18|2.4759284731774414|\n",
      "|  0.9|   85|11.691884456671252|\n",
      "|  0.5|  127| 17.46905089408528|\n",
      "|  1.0|   69| 9.491059147180192|\n",
      "|  0.3|   49| 6.740027510316368|\n",
      "|  0.4|   28| 3.851444291609354|\n",
      "|  0.8|   78|10.729023383768913|\n",
      "|  0.2|   75| 10.31636863823934|\n",
      "|  0.0|   33|  4.53920220082531|\n",
      "|  0.7|   39| 5.364511691884457|\n",
      "+-----+-----+------------------+\n",
      "\n"
     ]
    }
   ],
   "source": [
    "from pyspark.sql.functions import col, count, lit\n",
    "\n",
    "# Calculate the total number of rows to compute proportions\n",
    "total_count = train_df.count()\n",
    "\n",
    "# Group by the 'label' column and calculate the count of each label\n",
    "label_distribution = train_df.groupBy(\"label\").count()\n",
    "\n",
    "# Calculate the percentage of each label\n",
    "label_distribution = label_distribution.withColumn(\"percentage\", (col(\"count\") / lit(total_count) * 100))\n",
    "\n",
    "# Display the results\n",
    "label_distribution.show()"
   ]
  },
  {
   "cell_type": "code",
   "execution_count": 6,
   "id": "a9386c85-f29e-478b-b147-1682f7935706",
   "metadata": {},
   "outputs": [
    {
     "name": "stderr",
     "output_type": "stream",
     "text": [
      "                                                                                \r"
     ]
    },
    {
     "data": {
      "image/png": "[encoded data removed]",
      "text/plain": [
       "<Figure size 640x480 with 1 Axes>"
      ]
     },
     "metadata": {},
     "output_type": "display_data"
    }
   ],
   "source": [
    "import matplotlib.pyplot as plt\n",
    "\n",
    "# Retrieve the \"label\" data\n",
    "label_data = train_df.select(\"label\").rdd.flatMap(lambda x: x).collect()\n",
    "\n",
    "# Plot the histogram\n",
    "plt.hist(label_data, bins=50)  # bins参数根据数据的具体情况调整\n",
    "plt.title('Distribution of Label')\n",
    "plt.xlabel('Label')\n",
    "plt.ylabel('Frequency')\n",
    "plt.show()"
   ]
  },
  {
   "cell_type": "code",
   "execution_count": 7,
   "id": "d6d56153-489a-4cda-8550-4a24efc1a15a",
   "metadata": {},
   "outputs": [
    {
     "name": "stderr",
     "output_type": "stream",
     "text": [
      "                                                                                \r"
     ]
    }
   ],
   "source": [
    "from pyspark.ml.feature import StandardScaler, VectorAssembler\n",
    "\n",
    "scaler = StandardScaler(inputCol=\"features\", outputCol=\"scaledFeatures\", withStd=True, withMean=False)\n",
    "\n",
    "# Fit the scaler on the entire dataset\n",
    "scaler_model = scaler.fit(train_df)\n",
    "\n",
    "# Transform the training and test data\n",
    "scaled_train_df = scaler_model.transform(train_df)\n",
    "scaled_test_df = scaler_model.transform(test_df)\n",
    "\n",
    "from pyspark.ml.regression import RandomForestRegressor\n",
    "\n",
    "# Create a Random Forest regression model, noting to specify the featuresCol as \"scaled\n",
    "rf = RandomForestRegressor(featuresCol=\"scaledFeatures\", labelCol=\"label\", numTrees=20, maxDepth=5)\n",
    "\n",
    "# model traning\n",
    "rf_model = rf.fit(scaled_train_df)"
   ]
  },
  {
   "cell_type": "code",
   "execution_count": 9,
   "id": "aa04a782-6484-44cb-8817-7c324931376b",
   "metadata": {},
   "outputs": [
    {
     "name": "stdout",
     "output_type": "stream",
     "text": [
      "+-------------------+-----+\n",
      "|         prediction|label|\n",
      "+-------------------+-----+\n",
      "| 0.5739628570905417|  0.5|\n",
      "| 0.5739628570905417|  0.8|\n",
      "| 0.6461121714723178|  0.1|\n",
      "| 0.6461121714723178|  0.8|\n",
      "|0.44739599803732455|  0.3|\n",
      "|0.44739599803732455|  0.8|\n",
      "| 0.4214170581717632|  0.5|\n",
      "| 0.5342050537956005|  0.5|\n",
      "|0.38497186096607294|  0.6|\n",
      "|0.38497186096607294|  0.7|\n",
      "|0.49146790624026354|  0.1|\n",
      "|0.49146790624026354|  0.1|\n",
      "|0.49146790624026354|  0.5|\n",
      "| 0.4916996590057347|  0.1|\n",
      "| 0.4916996590057347|  0.9|\n",
      "| 0.6024663286441014|  0.7|\n",
      "|0.44871086283804684|  0.8|\n",
      "|   0.45831437439012|  0.9|\n",
      "|  0.442821710140492|  0.4|\n",
      "|  0.442821710140492|  0.9|\n",
      "+-------------------+-----+\n",
      "only showing top 20 rows\n",
      "\n"
     ]
    }
   ],
   "source": [
    "# prediction\n",
    "predictions = rf_model.transform(scaled_test_df)\n",
    "predictions.select(\"prediction\", \"label\").show()\n"
   ]
  },
  {
   "cell_type": "code",
   "execution_count": 10,
   "id": "9a8dbad8-12fd-4689-a12e-c78cf7b15fb8",
   "metadata": {},
   "outputs": [
    {
     "name": "stdout",
     "output_type": "stream",
     "text": [
      "Root Mean Squared Error (RMSE) on test data = 0.325085\n",
      "Mean Squared Error (MSE) on test data = 0.10568\n",
      "Mean Absolute Error (MAE) on test data = 0.280929\n"
     ]
    }
   ],
   "source": [
    "from pyspark.ml.evaluation import RegressionEvaluator\n",
    "\n",
    "# Configure the evaluator\n",
    "evaluator_rmse = RegressionEvaluator(labelCol=\"label\", predictionCol=\"prediction\", metricName=\"rmse\")\n",
    "evaluator_mse = RegressionEvaluator(labelCol=\"label\", predictionCol=\"prediction\", metricName=\"mse\")\n",
    "evaluator_mae = RegressionEvaluator(labelCol=\"label\", predictionCol=\"prediction\", metricName=\"mae\")\n",
    "\n",
    "# Calculate evaluation metrics\n",
    "rmse = evaluator_rmse.evaluate(predictions)\n",
    "mse = evaluator_mse.evaluate(predictions)\n",
    "mae = evaluator_mae.evaluate(predictions)\n",
    "\n",
    "print(\"Root Mean Squared Error (RMSE) on test data = %g\" % rmse)\n",
    "print(\"Mean Squared Error (MSE) on test data = %g\" % mse)\n",
    "print(\"Mean Absolute Error (MAE) on test data = %g\" % mae)\n"
   ]
  },
  {
   "cell_type": "code",
   "execution_count": 11,
   "id": "0850da47-75d1-48d3-ab00-eff51e462161",
   "metadata": {},
   "outputs": [
    {
     "data": {
      "image/png": "[encoded data removed]",
      "text/plain": [
       "<Figure size 1000x600 with 1 Axes>"
      ]
     },
     "metadata": {},
     "output_type": "display_data"
    }
   ],
   "source": [
    "import matplotlib.pyplot as plt\n",
    "import seaborn as sns\n",
    "\n",
    "# Convert to Pandas DataFrame for visualization\n",
    "predictions_pd = predictions.select(\"label\", \"prediction\").toPandas()\n",
    "\n",
    "# Plot predicted values and actual values\n",
    "plt.figure(figsize=(10, 6))\n",
    "sns.scatterplot(x='label', y='prediction', data=predictions_pd, alpha=0.6)\n",
    "plt.plot([0, 1], [0, 1], '--', color='red')  # 绘制 y=x 参考线\n",
    "plt.title('Prediction vs Actual')\n",
    "plt.xlabel('Actual Label')\n",
    "plt.ylabel('Predicted Label')\n",
    "plt.show()"
   ]
  },
  {
   "cell_type": "code",
   "execution_count": 12,
   "id": "3bfcb42a-52b4-4f9f-92d1-5e604df5a103",
   "metadata": {},
   "outputs": [
    {
     "name": "stdout",
     "output_type": "stream",
     "text": [
      "+-------------------+-------------------+\n",
      "|  probability_trump|  probability_biden|\n",
      "+-------------------+-------------------+\n",
      "| 0.5739628570905417|0.42603714290945827|\n",
      "| 0.5739628570905417|0.42603714290945827|\n",
      "| 0.6461121714723178| 0.3538878285276822|\n",
      "| 0.6461121714723178| 0.3538878285276822|\n",
      "|0.44739599803732455| 0.5526040019626755|\n",
      "|0.44739599803732455| 0.5526040019626755|\n",
      "| 0.4214170581717632| 0.5785829418282368|\n",
      "| 0.5342050537956005|0.46579494620439954|\n",
      "|0.38497186096607294| 0.6150281390339271|\n",
      "|0.38497186096607294| 0.6150281390339271|\n",
      "|0.49146790624026354| 0.5085320937597364|\n",
      "|0.49146790624026354| 0.5085320937597364|\n",
      "|0.49146790624026354| 0.5085320937597364|\n",
      "| 0.4916996590057347| 0.5083003409942652|\n",
      "| 0.4916996590057347| 0.5083003409942652|\n",
      "| 0.6024663286441014|0.39753367135589857|\n",
      "|0.44871086283804684| 0.5512891371619532|\n",
      "|   0.45831437439012|   0.54168562560988|\n",
      "|  0.442821710140492|  0.557178289859508|\n",
      "|  0.442821710140492|  0.557178289859508|\n",
      "+-------------------+-------------------+\n",
      "only showing top 20 rows\n",
      "\n"
     ]
    }
   ],
   "source": [
    "from pyspark.sql.functions import col\n",
    "\n",
    "# Calculate the winning probabilities for Trump and Biden\n",
    "predictions_with_probabilities = predictions.withColumn(\"probability_trump\", col(\"prediction\")) \\\n",
    "                                            .withColumn(\"probability_biden\", 1 - col(\"prediction\"))\n",
    "\n",
    "# result\n",
    "predictions_with_probabilities.select(\"probability_trump\", \"probability_biden\").show()\n"
   ]
  },
  {
   "cell_type": "code",
   "execution_count": 13,
   "id": "8884965f-5d06-4c16-86cb-fcb20e519934",
   "metadata": {},
   "outputs": [
    {
     "name": "stdout",
     "output_type": "stream",
     "text": [
      "Trumo Win Probability: 0.52\n",
      "Biden Win Probability: 0.48\n"
     ]
    }
   ],
   "source": [
    "from pyspark.sql.functions import avg\n",
    "\n",
    "# Calculate the average value of the 'prediction' column\n",
    "trump_win_probability = predictions_with_probabilities.agg(avg(\"probability_trump\")).first()[0]\n",
    "biden_win_probability = predictions_with_probabilities.agg(avg(\"probability_biden\")).first()[0]\n",
    "\n",
    "# Output the probability \n",
    "print(f\"Trumo Win Probability: {trump_win_probability:.2f}\")\n",
    "print(f\"Biden Win Probability: {biden_win_probability:.2f}\")"
   ]
  },
  {
   "cell_type": "code",
   "execution_count": null,
   "id": "6caa180a-afc2-415f-8d60-4967b2abdb2c",
   "metadata": {},
   "outputs": [],
   "source": []
  }
 ],
 "metadata": {
  "kernelspec": {
   "display_name": "Python 3 (ipykernel)",
   "language": "python",
   "name": "python3"
  },
  "language_info": {
   "codemirror_mode": {
    "name": "ipython",
    "version": 3
   },
   "file_extension": ".py",
   "mimetype": "text/x-python",
   "name": "python",
   "nbconvert_exporter": "python",
   "pygments_lexer": "ipython3",
   "version": "3.10.5"
  }
 },
 "nbformat": 4,
 "nbformat_minor": 5
}
