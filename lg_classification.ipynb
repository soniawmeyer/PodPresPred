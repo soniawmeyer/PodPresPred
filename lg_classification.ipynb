{
 "cells": [
  {
   "cell_type": "code",
   "execution_count": 1,
   "id": "036b2cae-b365-457b-bcfe-0d2d10bf32a0",
   "metadata": {},
   "outputs": [
    {
     "name": "stderr",
     "output_type": "stream",
     "text": [
      "24/05/12 15:11:37 WARN Utils: Your hostname, shukus-MacBook-Pro.local resolves to a loopback address: 127.0.0.1; using 192.168.0.15 instead (on interface en0)\n",
      "24/05/12 15:11:37 WARN Utils: Set SPARK_LOCAL_IP if you need to bind to another address\n",
      "Setting default log level to \"WARN\".\n",
      "To adjust logging level use sc.setLogLevel(newLevel). For SparkR, use setLogLevel(newLevel).\n",
      "24/05/12 15:11:38 WARN NativeCodeLoader: Unable to load native-hadoop library for your platform... using builtin-java classes where applicable\n",
      "24/05/12 15:11:40 WARN Utils: Service 'SparkUI' could not bind on port 4040. Attempting port 4041.\n",
      "24/05/12 15:11:40 WARN Utils: Service 'SparkUI' could not bind on port 4041. Attempting port 4042.\n",
      "                                                                                \r"
     ]
    },
    {
     "name": "stdout",
     "output_type": "stream",
     "text": [
      "root\n",
      " |-- segment_id: long (nullable = true)\n",
      " |-- podcast_name_cleaned: string (nullable = true)\n",
      " |-- features: vector (nullable = true)\n",
      " |-- label: string (nullable = true)\n",
      "\n"
     ]
    },
    {
     "name": "stderr",
     "output_type": "stream",
     "text": [
      "                                                                                \r"
     ]
    },
    {
     "name": "stdout",
     "output_type": "stream",
     "text": [
      "+----------+--------------------+--------------------+-----+\n",
      "|segment_id|podcast_name_cleaned|            features|label|\n",
      "+----------+--------------------+--------------------+-----+\n",
      "|         0|Bill OReillys No ...|[-4.0,-0.02415416...|  0.8|\n",
      "|         0|Bill OReillys No ...|[-4.0,-0.02415416...|  0.5|\n",
      "|         0|Bill OReillys No ...|[-4.0,-0.02415416...|  0.8|\n",
      "|         0|Bill OReillys No ...|[-4.0,-0.02415416...|    1|\n",
      "|         0|Bill OReillys No ...|[-4.0,-0.02415416...|  0.7|\n",
      "|         0|Bill OReillys No ...|[-4.0,-0.02415416...|  0.2|\n",
      "|         0|Bill OReillys No ...|[-4.0,-0.02415416...|  0.4|\n",
      "|         0|Bill OReillys No ...|[-4.0,-0.02415416...|  0.5|\n",
      "|         1|    pod save america|[10.0,-0.01585099...|  0.5|\n",
      "|         1|    pod save america|[10.0,-0.01585099...|  0.7|\n",
      "|         1|    pod save america|[10.0,-0.01585099...|  0.8|\n",
      "|         1|    pod save america|[10.0,-0.01585099...|  0.1|\n",
      "|         1|    pod save america|[10.0,-0.01585099...|  0.9|\n",
      "|         1|    pod save america|[10.0,-0.01585099...|  0.6|\n",
      "|         1|    pod save america|[10.0,-0.01585099...|  0.9|\n",
      "|         1|    pod save america|[10.0,-0.01585099...|  0.3|\n",
      "|         1|    pod save america|[10.0,-0.01585099...|  0.9|\n",
      "|         2|Bill OReillys No ...|[29.0,-0.03721171...|  0.7|\n",
      "|         2|Bill OReillys No ...|[29.0,-0.03721171...|  0.3|\n",
      "|         2|Bill OReillys No ...|[29.0,-0.03721171...|  0.1|\n",
      "+----------+--------------------+--------------------+-----+\n",
      "only showing top 20 rows\n",
      "\n"
     ]
    }
   ],
   "source": [
    "#INITIALIZE SPARK SESSION\n",
    "from pyspark.sql import SparkSession\n",
    "spark = SparkSession.builder.appName(\"PodPres\").getOrCreate()\n",
    "\n",
    "assembled_df = spark.read.parquet(\"final_features_human_labels.parquet\")\n",
    "assembled_df.printSchema()\n",
    "assembled_df.show()"
   ]
  },
  {
   "cell_type": "code",
   "execution_count": 2,
   "id": "0c658e58-d505-41aa-9853-519f71613de6",
   "metadata": {},
   "outputs": [],
   "source": [
    "from pyspark.sql.functions import rand\n",
    "\n",
    "# shuffle\n",
    "shuffled_df = assembled_df.repartition(\"features\")  # 分区数根据数据大小和集群能力调整\n",
    "shuffled_df = shuffled_df.orderBy(rand())"
   ]
  },
  {
   "cell_type": "code",
   "execution_count": 3,
   "id": "db19e3de-5710-4059-afbc-877994f40a48",
   "metadata": {},
   "outputs": [
    {
     "name": "stdout",
     "output_type": "stream",
     "text": [
      "+----------+--------------------+--------------------+-----+------------+\n",
      "|segment_id|podcast_name_cleaned|            features|label|binary_label|\n",
      "+----------+--------------------+--------------------+-----+------------+\n",
      "|        51|Common Sense with...|[15.0,-0.01201010...|  0.7|           1|\n",
      "|         0|Bill OReillys No ...|[-4.0,-0.02415416...|  0.4|           0|\n",
      "|       112|Stay Tuned with P...|[6.0,-0.051940165...|    1|           1|\n",
      "|        53|FiveThirtyEight P...|[14.0,-0.01737330...|    0|           0|\n",
      "|        78|    pod save america|[35.0,-0.02068750...|  0.9|           1|\n",
      "|        29|    pod save america|[6.0,-0.011244099...|  0.1|           0|\n",
      "|       130|         Steve Deace|[16.0,-0.00819332...|    0|           0|\n",
      "|       130|         Steve Deace|[16.0,-0.00819332...|    1|           1|\n",
      "|       110|     Today Explained|[11.0,-0.01412328...|  0.1|           0|\n",
      "|        55|The Clay Travis a...|[0.0,-0.022040747...|  0.9|           1|\n",
      "|       112|Stay Tuned with P...|[6.0,-0.051940165...|  0.1|           0|\n",
      "|        26|          mark levin|[36.0,-0.02371758...|  0.3|           0|\n",
      "|       114|      The Wilderness|[6.0,-0.022079806...|  0.9|           1|\n",
      "|         8|      The Wilderness|[46.0,-0.01564225...|  0.7|           1|\n",
      "|        40|Bill OReillys No ...|[-31.0,-0.0228906...|  0.3|           0|\n",
      "|        42|          mark levin|[3.0,-0.035623975...|  0.3|           0|\n",
      "|        81|         Steve Deace|[9.0,-0.014403744...|  0.4|           0|\n",
      "|        55|The Clay Travis a...|[0.0,-0.022040747...|  0.1|           0|\n",
      "|       111|         dan bongino|[-2.0,-0.02521608...|  0.9|           1|\n",
      "|       107|FiveThirtyEight P...|[14.0,-0.00801308...|  0.1|           0|\n",
      "+----------+--------------------+--------------------+-----+------------+\n",
      "only showing top 20 rows\n",
      "\n"
     ]
    }
   ],
   "source": [
    "from pyspark.sql.functions import when, col\n",
    "from pyspark.ml.classification import RandomForestClassifier\n",
    "\n",
    "# Filter out rows where the label is exactly 0.5\n",
    "shuffled_df = shuffled_df.filter(col(\"label\") != 0.5)\n",
    "\n",
    "# apply original transformation without needing the 'otherwise' clause\n",
    "shuffled_df = shuffled_df.withColumn(\n",
    "    \"binary_label\",\n",
    "    when(col(\"label\") > 0.5, 1).otherwise(0)\n",
    ")\n",
    "shuffled_df.show()"
   ]
  },
  {
   "cell_type": "code",
   "execution_count": 4,
   "id": "cab7c3fc-8385-4872-b740-b5850d2efd46",
   "metadata": {},
   "outputs": [
    {
     "name": "stderr",
     "output_type": "stream",
     "text": [
      "24/05/12 15:11:54 WARN GarbageCollectionMetrics: To enable non-built-in garbage collector(s) List(G1 Concurrent GC), users should configure it(them) to spark.eventLog.gcMetrics.youngGenerationGarbageCollectors or spark.eventLog.gcMetrics.oldGenerationGarbageCollectors\n",
      "24/05/12 15:11:57 WARN InstanceBuilder: Failed to load implementation from:dev.ludovic.netlib.blas.JNIBLAS\n",
      "24/05/12 15:11:57 WARN InstanceBuilder: Failed to load implementation from:dev.ludovic.netlib.blas.VectorBLAS\n"
     ]
    }
   ],
   "source": [
    "# split data\n",
    "train_data, test_data = shuffled_df.randomSplit([0.7, 0.3], seed=42)\n",
    "from pyspark.ml.classification import LogisticRegression\n",
    "\n",
    "lr = LogisticRegression(featuresCol=\"features\", labelCol=\"binary_label\")\n",
    "\n",
    "# training model\n",
    "lr_model = lr.fit(train_data)\n"
   ]
  },
  {
   "cell_type": "code",
   "execution_count": 5,
   "id": "d7664911-e307-488b-8cf9-09b86685dcaf",
   "metadata": {},
   "outputs": [
    {
     "name": "stdout",
     "output_type": "stream",
     "text": [
      "+----------+-----+\n",
      "|prediction|count|\n",
      "+----------+-----+\n",
      "|       0.0|   93|\n",
      "|       1.0|   95|\n",
      "+----------+-----+\n",
      "\n",
      "+------------+----------+----------------------------------------+\n",
      "|binary_label|prediction|probability                             |\n",
      "+------------+----------+----------------------------------------+\n",
      "|1           |1.0       |[0.43609281753061385,0.5639071824693862]|\n",
      "|0           |1.0       |[0.23539077201049455,0.7646092279895055]|\n",
      "|1           |1.0       |[0.23539077201049455,0.7646092279895055]|\n",
      "|1           |1.0       |[0.23539077201049455,0.7646092279895055]|\n",
      "|1           |1.0       |[0.23539077201049455,0.7646092279895055]|\n",
      "|0           |1.0       |[0.3763022696038735,0.6236977303961265] |\n",
      "|0           |1.0       |[0.3763022696038735,0.6236977303961265] |\n",
      "|1           |1.0       |[0.3763022696038735,0.6236977303961265] |\n",
      "|0           |0.0       |[0.5627811045675775,0.43721889543242254]|\n",
      "|0           |0.0       |[0.5627811045675775,0.43721889543242254]|\n",
      "|1           |0.0       |[0.5627811045675775,0.43721889543242254]|\n",
      "|0           |1.0       |[0.4016593866989502,0.5983406133010498] |\n",
      "|1           |1.0       |[0.4016593866989502,0.5983406133010498] |\n",
      "|1           |1.0       |[0.4016593866989502,0.5983406133010498] |\n",
      "|0           |1.0       |[0.3423822363410099,0.6576177636589902] |\n",
      "|0           |1.0       |[0.3423822363410099,0.6576177636589902] |\n",
      "|0           |1.0       |[0.3423822363410099,0.6576177636589902] |\n",
      "|0           |1.0       |[0.2411204946031075,0.7588795053968925] |\n",
      "|0           |1.0       |[0.2411204946031075,0.7588795053968925] |\n",
      "|1           |1.0       |[0.2411204946031075,0.7588795053968925] |\n",
      "+------------+----------+----------------------------------------+\n",
      "only showing top 20 rows\n",
      "\n"
     ]
    }
   ],
   "source": [
    "from pyspark.ml.evaluation import BinaryClassificationEvaluator\n",
    "\n",
    "# prediction\n",
    "predictions = lr_model.transform(test_data)\n",
    "\n",
    "from pyspark.sql.functions import col\n",
    "\n",
    "prediction_counts = predictions.groupBy(\"prediction\").count()\n",
    "# result\n",
    "prediction_counts.show()\n",
    "predictions.select(\"binary_label\", \"prediction\", \"probability\").show(truncate=False)"
   ]
  },
  {
   "cell_type": "code",
   "execution_count": 6,
   "id": "7033760d-1ce0-49f7-84e2-b36566f7a428",
   "metadata": {},
   "outputs": [
    {
     "name": "stdout",
     "output_type": "stream",
     "text": [
      "Area Under ROC: 0.42898600204848075\n"
     ]
    }
   ],
   "source": [
    "from pyspark.ml.evaluation import BinaryClassificationEvaluator\n",
    "\n",
    "# AUC\n",
    "evaluator = BinaryClassificationEvaluator(rawPredictionCol=\"rawPrediction\", labelCol=\"binary_label\", metricName=\"areaUnderROC\")\n",
    "auc = evaluator.evaluate(predictions)\n",
    "\n",
    "print(f\"Area Under ROC: {auc}\")"
   ]
  },
  {
   "cell_type": "code",
   "execution_count": 7,
   "id": "5568cb66-343e-4a47-9128-a824c16ba1fd",
   "metadata": {},
   "outputs": [
    {
     "name": "stderr",
     "output_type": "stream",
     "text": [
      "                                                                                \r"
     ]
    },
    {
     "data": {
      "image/png": "[encoded data removed]",
      "text/plain": [
       "<Figure size 640x480 with 1 Axes>"
      ]
     },
     "metadata": {},
     "output_type": "display_data"
    }
   ],
   "source": [
    "import matplotlib.pyplot as plt\n",
    "from sklearn.metrics import roc_curve, auc\n",
    "\n",
    "# Retrieve labels and prediction probabilities\n",
    "labels_and_probs = predictions.select(\"binary_label\", \"probability\").rdd.map(lambda row: (float(row[0]), float(row[1][1]))).collect()\n",
    "labels, scores = zip(*labels_and_probs)\n",
    "\n",
    "# Calculate the ROC curve\n",
    "fpr, tpr, thresholds = roc_curve(labels, scores)\n",
    "roc_auc = auc(fpr, tpr)\n",
    "\n",
    "# Plot the ROC curve\n",
    "plt.figure()\n",
    "plt.plot(fpr, tpr, color='darkorange', lw=2, label=f'ROC curve (area = {roc_auc:.2f})')\n",
    "plt.plot([0, 1], [0, 1], color='navy', linestyle='--')\n",
    "plt.xlim([0.0, 1.0])\n",
    "plt.ylim([0.0, 1.05])\n",
    "plt.xlabel('False Positive Rate')\n",
    "plt.ylabel('True Positive Rate')\n",
    "plt.title('Receiver Operating Characteristic')\n",
    "plt.legend(loc=\"lower right\")\n",
    "plt.show()"
   ]
  },
  {
   "cell_type": "code",
   "execution_count": 8,
   "id": "9aec4189-dbb2-4ff9-a792-b675a7ac4e30",
   "metadata": {},
   "outputs": [
    {
     "data": {
      "image/png": "[encoded data removed]",
      "text/plain": [
       "<Figure size 640x480 with 2 Axes>"
      ]
     },
     "metadata": {},
     "output_type": "display_data"
    }
   ],
   "source": [
    "import pandas as pd\n",
    "import seaborn as sns\n",
    "import matplotlib.pyplot as plt\n",
    "\n",
    "pandas_df = predictions.select(\"binary_label\", \"prediction\").toPandas()\n",
    "\n",
    "# Generate the confusion matrix\n",
    "confusion_matrix = pd.crosstab(pandas_df['binary_label'], pandas_df['prediction'], rownames=['Actual'], colnames=['Predicted'])\n",
    "\n",
    "# Use seaborn to plot the confusion matrix\n",
    "sns.heatmap(confusion_matrix, annot=True, fmt='d')\n",
    "plt.show()"
   ]
  },
  {
   "cell_type": "code",
   "execution_count": 9,
   "id": "e6bc7221-2bfe-4af8-8229-adef773bf10f",
   "metadata": {},
   "outputs": [
    {
     "name": "stderr",
     "output_type": "stream",
     "text": [
      "                                                                                \r"
     ]
    },
    {
     "name": "stdout",
     "output_type": "stream",
     "text": [
      "+-------------------+-------------------+\n",
      "|         prob_biden|         prob_trump|\n",
      "+-------------------+-------------------+\n",
      "|0.43609281753061385| 0.5639071824693862|\n",
      "|0.23539077201049455| 0.7646092279895055|\n",
      "|0.23539077201049455| 0.7646092279895055|\n",
      "|0.23539077201049455| 0.7646092279895055|\n",
      "|0.23539077201049455| 0.7646092279895055|\n",
      "| 0.3763022696038735| 0.6236977303961265|\n",
      "| 0.3763022696038735| 0.6236977303961265|\n",
      "| 0.3763022696038735| 0.6236977303961265|\n",
      "| 0.5627811045675775|0.43721889543242254|\n",
      "| 0.5627811045675775|0.43721889543242254|\n",
      "| 0.5627811045675775|0.43721889543242254|\n",
      "| 0.4016593866989502| 0.5983406133010498|\n",
      "| 0.4016593866989502| 0.5983406133010498|\n",
      "| 0.4016593866989502| 0.5983406133010498|\n",
      "| 0.3423822363410099| 0.6576177636589902|\n",
      "| 0.3423822363410099| 0.6576177636589902|\n",
      "| 0.3423822363410099| 0.6576177636589902|\n",
      "| 0.2411204946031075| 0.7588795053968925|\n",
      "| 0.2411204946031075| 0.7588795053968925|\n",
      "| 0.2411204946031075| 0.7588795053968925|\n",
      "+-------------------+-------------------+\n",
      "only showing top 20 rows\n",
      "\n"
     ]
    },
    {
     "name": "stderr",
     "output_type": "stream",
     "text": [
      "[Stage 420:>                                                        (0 + 1) / 1]\r"
     ]
    },
    {
     "name": "stdout",
     "output_type": "stream",
     "text": [
      "Average Biden win probability: 51.02%\n",
      "Average Trump win probability: 48.98%\n"
     ]
    },
    {
     "name": "stderr",
     "output_type": "stream",
     "text": [
      "                                                                                \r"
     ]
    }
   ],
   "source": [
    "from pyspark.sql.functions import udf, col, lit\n",
    "from pyspark.sql.types import DoubleType\n",
    "\n",
    "# Define a UDF to extract elements from a vector\n",
    "def extract_probability_element(prob_vector, index):\n",
    "    return float(prob_vector.values[index])\n",
    "\n",
    "# Register the UDF\n",
    "extract_probability_udf = udf(extract_probability_element, DoubleType())\n",
    "\n",
    "# Use the UDF to extract Biden and Trump probabilities\n",
    "predictions = predictions.withColumn(\"prob_biden\", extract_probability_udf(col(\"probability\"), lit(0)))\n",
    "predictions = predictions.withColumn(\"prob_trump\", extract_probability_udf(col(\"probability\"), lit(1)))\n",
    "predictions.select(\"prob_biden\", \"prob_trump\").show()\n",
    "# Now calculate the averages\n",
    "average_probs = predictions.agg(\n",
    "    {\"prob_biden\": \"avg\", \"prob_trump\": \"avg\"}\n",
    ").collect()[0]\n",
    "\n",
    "avg_prob_biden = average_probs[\"avg(prob_biden)\"]\n",
    "avg_prob_trump = average_probs[\"avg(prob_trump)\"]\n",
    "\n",
    "print(f\"Average Biden win probability: {avg_prob_biden*100:.2f}%\")\n",
    "print(f\"Average Trump win probability: {avg_prob_trump*100:.2f}%\")"
   ]
  },
  {
   "cell_type": "code",
   "execution_count": 10,
   "id": "59761d4b-4b27-4ad7-b65c-837025111a3b",
   "metadata": {},
   "outputs": [],
   "source": [
    "spark.stop()"
   ]
  },
  {
   "cell_type": "code",
   "execution_count": null,
   "id": "1f161651-5fd9-48db-8332-9822ed13246c",
   "metadata": {},
   "outputs": [],
   "source": []
  }
 ],
 "metadata": {
  "kernelspec": {
   "display_name": "Python 3 (ipykernel)",
   "language": "python",
   "name": "python3"
  },
  "language_info": {
   "codemirror_mode": {
    "name": "ipython",
    "version": 3
   },
   "file_extension": ".py",
   "mimetype": "text/x-python",
   "name": "python",
   "nbconvert_exporter": "python",
   "pygments_lexer": "ipython3",
   "version": "3.10.5"
  }
 },
 "nbformat": 4,
 "nbformat_minor": 5
}
