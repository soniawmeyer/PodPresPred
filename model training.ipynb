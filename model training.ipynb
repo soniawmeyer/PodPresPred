{
 "cells": [
  {
   "cell_type": "code",
   "execution_count": 1,
   "id": "42765572-eddf-49a6-87c5-9d8e1f6a25f6",
   "metadata": {},
   "outputs": [
    {
     "name": "stderr",
     "output_type": "stream",
     "text": [
      "24/05/01 03:33:37 WARN Utils: Your hostname, yangjingdeMacBook-Air.local resolves to a loopback address: 127.0.0.1; using 192.168.1.7 instead (on interface en0)\n",
      "24/05/01 03:33:37 WARN Utils: Set SPARK_LOCAL_IP if you need to bind to another address\n",
      "Setting default log level to \"WARN\".\n",
      "To adjust logging level use sc.setLogLevel(newLevel). For SparkR, use setLogLevel(newLevel).\n",
      "24/05/01 03:33:37 WARN NativeCodeLoader: Unable to load native-hadoop library for your platform... using builtin-java classes where applicable\n"
     ]
    },
    {
     "name": "stdout",
     "output_type": "stream",
     "text": [
      "root\n",
      " |-- podcast_name_cleaned: string (nullable = true)\n",
      " |-- trump_mention: integer (nullable = true)\n",
      " |-- biden_mention: integer (nullable = true)\n",
      " |-- features: vector (nullable = true)\n",
      " |-- label: string (nullable = true)\n",
      "\n",
      "+--------------------+-------------+-------------+--------------------+--------+\n",
      "|podcast_name_cleaned|trump_mention|biden_mention|            features|   label|\n",
      "+--------------------+-------------+-------------+--------------------+--------+\n",
      "|Bill OReillys No ...|            1|            0|[-4.0,0.012453206...|Negative|\n",
      "|    pod save america|            0|            1|[10.0,0.015965217...| Neutral|\n",
      "|Bill OReillys No ...|            1|            0|[29.0,0.005646936...|Positive|\n",
      "|The Charlie Kirk ...|            1|            1|[20.0,0.029572529...| Neutral|\n",
      "|The Clay Travis a...|            1|            1|[19.0,0.024224661...| Neutral|\n",
      "|      The Wilderness|            0|            1|[54.0,0.036696821...|Positive|\n",
      "|      The Wilderness|            0|            1|[16.0,0.045275807...| Neutral|\n",
      "|         Steve Deace|            0|            1|[14.0,0.033458963...| Neutral|\n",
      "|      The Wilderness|            1|            1|[46.0,0.036285068...|Positive|\n",
      "|      The Wilderness|            1|            1|[-2.0,0.011470824...|Negative|\n",
      "|    pod save america|            1|            0|[64.0,0.031904160...|Positive|\n",
      "|         transcripts|            1|            0|[9.0,0.0223481990...| Neutral|\n",
      "|The Charlie Kirk ...|            1|            1|[-4.0,0.020435942...|Negative|\n",
      "|    pod save america|            1|            0|[25.0,0.013904865...|Positive|\n",
      "|Stay Tuned with P...|            1|            0|[5.0,0.0040797116...| Neutral|\n",
      "|         ben shapiro|            1|            1|[13.0,0.011997656...| Neutral|\n",
      "|         dan bongino|            1|            0|[29.0,0.030435796...|Positive|\n",
      "|         dan bongino|            1|            0|[35.0,0.020186904...|Positive|\n",
      "|          mark levin|            1|            1|[6.0,0.0180638078...| Neutral|\n",
      "|Common Sense with...|            1|            1|[-6.0,0.013697855...|Negative|\n",
      "+--------------------+-------------+-------------+--------------------+--------+\n",
      "only showing top 20 rows\n",
      "\n"
     ]
    }
   ],
   "source": [
    "#add shuffle and model parameters based on basic model\n",
    "\n",
    "from pyspark.sql import SparkSession\n",
    "\n",
    "# supress warnings\n",
    "import warnings\n",
    "warnings.filterwarnings('ignore')\n",
    "\n",
    "spark = SparkSession.builder \\\n",
    "    .appName(\"Presidential Election Prediction\") \\\n",
    "    .getOrCreate()\n",
    "\n",
    "df = spark.read.parquet(\"part-00000-bb5ebda7-fafc-4784-a59f-3c66739c28ed-c000.snappy.parquet\")\n",
    "df.printSchema()\n",
    "df.show()  "
   ]
  },
  {
   "cell_type": "code",
   "execution_count": 2,
   "id": "5c1f2a06-82f4-4f1b-add6-1515ec045298",
   "metadata": {},
   "outputs": [
    {
     "data": {
      "text/plain": [
       "[('podcast_name_cleaned', 'string'),\n",
       " ('trump_mention', 'int'),\n",
       " ('biden_mention', 'int'),\n",
       " ('features', 'vector'),\n",
       " ('label', 'string')]"
      ]
     },
     "execution_count": 2,
     "metadata": {},
     "output_type": "execute_result"
    }
   ],
   "source": [
    "df.dtypes"
   ]
  },
  {
   "cell_type": "code",
   "execution_count": 3,
   "id": "91d188c5-efe4-4394-8d91-61e32ab863bc",
   "metadata": {},
   "outputs": [
    {
     "data": {
      "text/plain": [
       "[('podcast_name_cleaned', 'string'),\n",
       " ('trump_mention', 'int'),\n",
       " ('biden_mention', 'int'),\n",
       " ('features', 'vector'),\n",
       " ('label', 'string'),\n",
       " ('label_numeric', 'int')]"
      ]
     },
     "execution_count": 3,
     "metadata": {},
     "output_type": "execute_result"
    }
   ],
   "source": [
    "from pyspark.sql.functions import when\n",
    "\n",
    "# Assuming your DataFrame is named df and the label column is named \"label\"\n",
    "#notes: the labels should ideally be non-negative integers starting from 0.\n",
    "df = df.withColumn(\n",
    "    \"label_numeric\",\n",
    "    when(df[\"label\"] == \"Positive\", 2)\n",
    "    .when(df[\"label\"] == \"Neutral\", 1)\n",
    "    .otherwise(0)\n",
    ")\n",
    "df.dtypes\n",
    "\n",
    "# Drop the original string label column if not needed\n",
    "# df = df.drop(\"label\")"
   ]
  },
  {
   "cell_type": "code",
   "execution_count": 4,
   "id": "36453774-0722-4f5a-a847-909f31ffc23e",
   "metadata": {},
   "outputs": [],
   "source": [
    "from pyspark.ml.classification import NaiveBayes, LogisticRegression, LinearSVC\n",
    "from pyspark.ml.evaluation import MulticlassClassificationEvaluator\n",
    "from pyspark.ml import Pipeline\n",
    "from pyspark.ml.feature import MinMaxScaler"
   ]
  },
  {
   "cell_type": "code",
   "execution_count": 5,
   "id": "f751fa89-9b83-490e-ad86-4dee873d3481",
   "metadata": {},
   "outputs": [],
   "source": [
    "# Handle Negative Values: since our features columns contains negative values, we use scaling techniques such as MinMaxScaler or StandardScaler to transform or standarize it.\n",
    "scaler = MinMaxScaler(inputCol=\"features\", outputCol=\"scaled_features\")\n",
    "scaler_model = scaler.fit(df)\n",
    "df = scaler_model.transform(df)"
   ]
  },
  {
   "cell_type": "code",
   "execution_count": 6,
   "id": "a438704a-3086-416d-8404-9b16cd7bf0dc",
   "metadata": {},
   "outputs": [
    {
     "name": "stdout",
     "output_type": "stream",
     "text": [
      "+---------------------------------------+-----+\n",
      "|podcast_name_cleaned                   |count|\n",
      "+---------------------------------------+-----+\n",
      "|pod save america                       |123  |\n",
      "|mark levin                             |77   |\n",
      "|FiveThirtyEight Politics               |75   |\n",
      "|The Clay Travis and Buck Sexton Show   |70   |\n",
      "|dan bongino                            |68   |\n",
      "|ben shapiro                            |67   |\n",
      "|Steve Deace                            |63   |\n",
      "|The Wilderness                         |55   |\n",
      "|Common Sense with Dan Carlin           |34   |\n",
      "|The Rubin Report                       |34   |\n",
      "|npr politics podcast                   |34   |\n",
      "|Bill OReillys No Spin News and Analysis|33   |\n",
      "|Stay Tuned with Preet                  |29   |\n",
      "|THE SAVAGE NATION                      |29   |\n",
      "|joe rogan                              |22   |\n",
      "|the daily                              |15   |\n",
      "|The Charlie Kirk Show                  |14   |\n",
      "|transcripts                            |12   |\n",
      "|Today Explained                        |11   |\n",
      "|Candace Owens                          |7    |\n",
      "|The Gray Area Sean Illing              |3    |\n",
      "|this american life                     |2    |\n",
      "|armchair expert dax shephard           |1    |\n",
      "|pardon my take                         |1    |\n",
      "|timestamps                             |1    |\n",
      "+---------------------------------------+-----+\n",
      "\n",
      "+---------------------------------------+-----+-----------+\n",
      "|podcast_name_cleaned                   |count|total_count|\n",
      "+---------------------------------------+-----+-----------+\n",
      "|The Charlie Kirk Show                  |14   |12         |\n",
      "|ben shapiro                            |67   |54         |\n",
      "|joe rogan                              |22   |18         |\n",
      "|this american life                     |2    |2          |\n",
      "|Candace Owens                          |7    |6          |\n",
      "|The Clay Travis and Buck Sexton Show   |70   |56         |\n",
      "|dan bongino                            |68   |55         |\n",
      "|FiveThirtyEight Politics               |75   |60         |\n",
      "|THE SAVAGE NATION                      |29   |24         |\n",
      "|Today Explained                        |11   |9          |\n",
      "|armchair expert dax shephard           |1    |1          |\n",
      "|The Wilderness                         |55   |44         |\n",
      "|the daily                              |15   |12         |\n",
      "|pod save america                       |123  |99         |\n",
      "|transcripts                            |12   |10         |\n",
      "|Bill OReillys No Spin News and Analysis|33   |27         |\n",
      "|npr politics podcast                   |34   |28         |\n",
      "|The Gray Area Sean Illing              |3    |3          |\n",
      "|timestamps                             |1    |1          |\n",
      "|pardon my take                         |1    |1          |\n",
      "|Common Sense with Dan Carlin           |34   |28         |\n",
      "|Steve Deace                            |63   |51         |\n",
      "|mark levin                             |77   |62         |\n",
      "|Stay Tuned with Preet                  |29   |24         |\n",
      "|The Rubin Report                       |34   |28         |\n",
      "+---------------------------------------+-----+-----------+\n",
      "\n"
     ]
    }
   ],
   "source": [
    "# check the podcast_counts frequency distribution \n",
    "from pyspark.sql.functions import col, ceil\n",
    "from pyspark.sql import DataFrame\n",
    "from pyspark.sql import SparkSession\n",
    "\n",
    "podcast_counts = df.groupBy(\"podcast_name_cleaned\").count()\n",
    "podcast_counts_ordered = podcast_counts.orderBy(col(\"count\").desc(), col(\"podcast_name_cleaned\"))\n",
    "podcast_counts_ordered.show(podcast_counts_ordered.count(), truncate=False)\n",
    "\n",
    "podcast_counts = podcast_counts.withColumn(\"total_count\", ceil(col(\"count\") * 0.8))  # Assuming 80% training rate\n",
    "podcast_counts.show(podcast_counts.count(), truncate=False)"
   ]
  },
  {
   "cell_type": "code",
   "execution_count": 11,
   "id": "36b0c7ed-7a49-469b-9374-cc63b9c720e9",
   "metadata": {},
   "outputs": [],
   "source": [
    "#split the dataset using stratified sampling strategies to avoid bias and training rate is 80%\n",
    "train_data = df.join(podcast_counts, \"podcast_name_cleaned\", \"left\") \\\n",
    "    .filter(col(\"count\") <= col(\"total_count\"))\n",
    "test_data = df.join(podcast_counts, \"podcast_name_cleaned\", \"left\") \\\n",
    "    .filter(col(\"count\") > col(\"total_count\"))"
   ]
  },
  {
   "cell_type": "code",
   "execution_count": 12,
   "id": "a6951b4d-1f96-4898-8bab-d9d4a5a36a21",
   "metadata": {},
   "outputs": [
    {
     "name": "stdout",
     "output_type": "stream",
     "text": [
      "Logistic Regression Accuracy: 0.375\n"
     ]
    }
   ],
   "source": [
    "# Train the model(LogisticRegression)\n",
    "lr = LogisticRegression(featuresCol=\"scaled_features\", labelCol=\"label_numeric\")\n",
    "lr_model = lr.fit(train_data)\n",
    "lr_predictions = lr_model.transform(test_data)\n",
    "evaluator = MulticlassClassificationEvaluator(labelCol=\"label_numeric\", predictionCol=\"prediction\", metricName=\"accuracy\")\n",
    "lr_accuracy = evaluator.evaluate(lr_predictions)\n",
    "print(\"Logistic Regression Accuracy:\", lr_accuracy)"
   ]
  },
  {
   "cell_type": "code",
   "execution_count": null,
   "id": "8c14cf9b-6d91-4465-a8b4-943fb8bab0d4",
   "metadata": {},
   "outputs": [],
   "source": [
    "# notes: for binary classification tasks like SVM, the label conlum should contain only binary values (0 or 1).\n",
    "# Train the model(SVM)\n",
    "svm = LinearSVC(featuresCol=\"scaled_features\", labelCol=\"label_numeric\")\n",
    "svm_model = svm.fit(train_data)\n",
    "svm_predictions = svm_model.transform(test_data)\n",
    "evaluator = MulticlassClassificationEvaluator(labelCol=\"label_numeric\", predictionCol=\"prediction\", metricName=\"accuracy\")\n",
    "svm_accuracy = evaluator.evaluate(svm_predictions)\n",
    "print(\"SVM Accuracy:\", svm_accuracy)"
   ]
  },
  {
   "cell_type": "code",
   "execution_count": 13,
   "id": "4787d200-7088-49b9-8e0b-f562eb90241e",
   "metadata": {},
   "outputs": [
    {
     "name": "stdout",
     "output_type": "stream",
     "text": [
      "Naive Bayes Accuracy: 0.3830275229357798\n"
     ]
    }
   ],
   "source": [
    "# Train the model(NaiveBayes)\n",
    "nb = NaiveBayes(featuresCol=\"scaled_features\", labelCol=\"label_numeric\")\n",
    "nb_model = nb.fit(train_data)\n",
    "nb_predictions = nb_model.transform(test_data)\n",
    "evaluator = MulticlassClassificationEvaluator(labelCol=\"label_numeric\", predictionCol=\"prediction\", metricName=\"accuracy\")\n",
    "nb_accuracy = evaluator.evaluate(nb_predictions)\n",
    "print(\"Naive Bayes Accuracy:\", nb_accuracy)"
   ]
  },
  {
   "cell_type": "code",
   "execution_count": null,
   "id": "5710c84f-c0a3-400d-b1ba-4ec0909dce2d",
   "metadata": {},
   "outputs": [],
   "source": []
  }
 ],
 "metadata": {
  "kernelspec": {
   "display_name": "Python 3 (ipykernel)",
   "language": "python",
   "name": "python3"
  },
  "language_info": {
   "codemirror_mode": {
    "name": "ipython",
    "version": 3
   },
   "file_extension": ".py",
   "mimetype": "text/x-python",
   "name": "python",
   "nbconvert_exporter": "python",
   "pygments_lexer": "ipython3",
   "version": "3.11.5"
  }
 },
 "nbformat": 4,
 "nbformat_minor": 5
}
