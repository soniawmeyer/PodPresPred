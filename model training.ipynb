{
 "cells": [
  {
   "cell_type": "code",
   "execution_count": 1,
   "id": "42765572-eddf-49a6-87c5-9d8e1f6a25f6",
   "metadata": {},
   "outputs": [
    {
     "name": "stderr",
     "output_type": "stream",
     "text": [
      "24/05/08 10:57:59 WARN Utils: Your hostname, yangjingdeMacBook-Air.local resolves to a loopback address: 127.0.0.1; using 10.17.186.112 instead (on interface en0)\n",
      "24/05/08 10:57:59 WARN Utils: Set SPARK_LOCAL_IP if you need to bind to another address\n",
      "Setting default log level to \"WARN\".\n",
      "To adjust logging level use sc.setLogLevel(newLevel). For SparkR, use setLogLevel(newLevel).\n",
      "24/05/08 10:58:00 WARN NativeCodeLoader: Unable to load native-hadoop library for your platform... using builtin-java classes where applicable\n",
      "24/05/08 10:58:00 WARN Utils: Service 'SparkUI' could not bind on port 4040. Attempting port 4041.\n"
     ]
    },
    {
     "name": "stdout",
     "output_type": "stream",
     "text": [
      "root\n",
      " |-- segment_id: long (nullable = true)\n",
      " |-- podcast_name_cleaned: string (nullable = true)\n",
      " |-- features: vector (nullable = true)\n",
      " |-- label: string (nullable = true)\n",
      "\n",
      "+----------+--------------------+--------------------+-----+\n",
      "|segment_id|podcast_name_cleaned|            features|label|\n",
      "+----------+--------------------+--------------------+-----+\n",
      "|         0|Bill OReillys No ...|[-4.0,-0.00676251...|  0.8|\n",
      "|         0|Bill OReillys No ...|[-4.0,-0.00676251...|  0.5|\n",
      "|         0|Bill OReillys No ...|[-4.0,-0.00676251...|  0.8|\n",
      "|         0|Bill OReillys No ...|[-4.0,-0.00676251...|    1|\n",
      "|         0|Bill OReillys No ...|[-4.0,-0.00676251...|  0.7|\n",
      "|         0|Bill OReillys No ...|[-4.0,-0.00676251...|  0.2|\n",
      "|         0|Bill OReillys No ...|[-4.0,-0.00676251...|  0.4|\n",
      "|         0|Bill OReillys No ...|[-4.0,-0.00676251...|  0.5|\n",
      "|         1|    pod save america|[10.0,9.362422279...|  0.5|\n",
      "|         1|    pod save america|[10.0,9.362422279...|  0.7|\n",
      "|         1|    pod save america|[10.0,9.362422279...|  0.8|\n",
      "|         1|    pod save america|[10.0,9.362422279...|  0.1|\n",
      "|         1|    pod save america|[10.0,9.362422279...|  0.9|\n",
      "|         1|    pod save america|[10.0,9.362422279...|  0.6|\n",
      "|         1|    pod save america|[10.0,9.362422279...|  0.9|\n",
      "|         1|    pod save america|[10.0,9.362422279...|  0.3|\n",
      "|         1|    pod save america|[10.0,9.362422279...|  0.9|\n",
      "|         2|Bill OReillys No ...|[29.0,-0.00805697...|  0.7|\n",
      "|         2|Bill OReillys No ...|[29.0,-0.00805697...|  0.3|\n",
      "|         2|Bill OReillys No ...|[29.0,-0.00805697...|  0.1|\n",
      "+----------+--------------------+--------------------+-----+\n",
      "only showing top 20 rows\n",
      "\n"
     ]
    }
   ],
   "source": [
    "#add shuffle and model parameters based on basic model\n",
    "\n",
    "from pyspark.sql import SparkSession\n",
    "\n",
    "# supress warnings\n",
    "import warnings\n",
    "warnings.filterwarnings('ignore')\n",
    "\n",
    "spark = SparkSession.builder \\\n",
    "    .appName(\"Presidential Election Prediction\") \\\n",
    "    .getOrCreate()\n",
    "\n",
    "df = spark.read.parquet(\"part-00000-9d9060a9-37be-4b14-b8ce-98a3efe55429-c000.snappy.parquet\")\n",
    "df.printSchema()\n",
    "df.show()  "
   ]
  },
  {
   "cell_type": "code",
   "execution_count": 2,
   "id": "5c1f2a06-82f4-4f1b-add6-1515ec045298",
   "metadata": {},
   "outputs": [
    {
     "data": {
      "text/plain": [
       "[('segment_id', 'bigint'),\n",
       " ('podcast_name_cleaned', 'string'),\n",
       " ('features', 'vector'),\n",
       " ('label', 'string')]"
      ]
     },
     "execution_count": 2,
     "metadata": {},
     "output_type": "execute_result"
    }
   ],
   "source": [
    "df.dtypes"
   ]
  },
  {
   "cell_type": "code",
   "execution_count": 3,
   "id": "91d188c5-efe4-4394-8d91-61e32ab863bc",
   "metadata": {},
   "outputs": [
    {
     "data": {
      "text/plain": [
       "[('segment_id', 'bigint'),\n",
       " ('podcast_name_cleaned', 'string'),\n",
       " ('features', 'vector'),\n",
       " ('label', 'string'),\n",
       " ('label_numeric', 'int')]"
      ]
     },
     "execution_count": 3,
     "metadata": {},
     "output_type": "execute_result"
    }
   ],
   "source": [
    "from pyspark.sql.functions import when\n",
    "\n",
    "# Assuming your DataFrame is named df and the label column is named \"label\"\n",
    "#notes: the labels should ideally be non-negative integers starting from 0.\n",
    "df = df.withColumn(\n",
    "    \"label_numeric\",\n",
    "    when(df[\"label\"] == \"Positive\", 2)\n",
    "    .when(df[\"label\"] == \"Neutral\", 1)\n",
    "    .otherwise(0)\n",
    ")\n",
    "df.dtypes\n",
    "\n",
    "# Drop the original string label column if not needed\n",
    "# df = df.drop(\"label\")"
   ]
  },
  {
   "cell_type": "code",
   "execution_count": 4,
   "id": "36453774-0722-4f5a-a847-909f31ffc23e",
   "metadata": {},
   "outputs": [],
   "source": [
    "from pyspark.ml.classification import NaiveBayes, LogisticRegression, LinearSVC\n",
    "from pyspark.ml.evaluation import MulticlassClassificationEvaluator\n",
    "from pyspark.ml import Pipeline\n",
    "from pyspark.ml.feature import MinMaxScaler"
   ]
  },
  {
   "cell_type": "code",
   "execution_count": 5,
   "id": "f751fa89-9b83-490e-ad86-4dee873d3481",
   "metadata": {},
   "outputs": [],
   "source": [
    "# Handle Negative Values: since our features columns contains negative values, we use scaling techniques such as MinMaxScaler or StandardScaler to transform or standarize it.\n",
    "scaler = MinMaxScaler(inputCol=\"features\", outputCol=\"scaled_features\")\n",
    "scaler_model = scaler.fit(df)\n",
    "df = scaler_model.transform(df)"
   ]
  },
  {
   "cell_type": "code",
   "execution_count": 6,
   "id": "a438704a-3086-416d-8404-9b16cd7bf0dc",
   "metadata": {},
   "outputs": [
    {
     "name": "stdout",
     "output_type": "stream",
     "text": [
      "+---------------------------------------+-----+\n",
      "|podcast_name_cleaned                   |count|\n",
      "+---------------------------------------+-----+\n",
      "|pod save america                       |120  |\n",
      "|mark levin                             |92   |\n",
      "|FiveThirtyEight Politics               |86   |\n",
      "|ben shapiro                            |66   |\n",
      "|dan bongino                            |62   |\n",
      "|The Clay Travis and Buck Sexton Show   |58   |\n",
      "|Steve Deace                            |57   |\n",
      "|Bill OReillys No Spin News and Analysis|51   |\n",
      "|The Wilderness                         |46   |\n",
      "|Stay Tuned with Preet                  |40   |\n",
      "|Common Sense with Dan Carlin           |39   |\n",
      "|The Charlie Kirk Show                  |27   |\n",
      "|joe rogan                              |26   |\n",
      "|THE SAVAGE NATION                      |22   |\n",
      "|npr politics podcast                   |15   |\n",
      "|Today Explained                        |14   |\n",
      "|transcripts                            |13   |\n",
      "|The Rubin Report                       |9    |\n",
      "|this american life                     |9    |\n",
      "|Candace Owens                          |8    |\n",
      "|the daily                              |7    |\n",
      "+---------------------------------------+-----+\n",
      "\n",
      "+---------------------------------------+-----+-----------+\n",
      "|podcast_name_cleaned                   |count|total_count|\n",
      "+---------------------------------------+-----+-----------+\n",
      "|The Charlie Kirk Show                  |27   |22         |\n",
      "|ben shapiro                            |66   |53         |\n",
      "|joe rogan                              |26   |21         |\n",
      "|this american life                     |9    |8          |\n",
      "|Candace Owens                          |8    |7          |\n",
      "|The Clay Travis and Buck Sexton Show   |58   |47         |\n",
      "|dan bongino                            |62   |50         |\n",
      "|FiveThirtyEight Politics               |86   |69         |\n",
      "|THE SAVAGE NATION                      |22   |18         |\n",
      "|Today Explained                        |14   |12         |\n",
      "|The Wilderness                         |46   |37         |\n",
      "|the daily                              |7    |6          |\n",
      "|pod save america                       |120  |96         |\n",
      "|transcripts                            |13   |11         |\n",
      "|Bill OReillys No Spin News and Analysis|51   |41         |\n",
      "|npr politics podcast                   |15   |12         |\n",
      "|Common Sense with Dan Carlin           |39   |32         |\n",
      "|Steve Deace                            |57   |46         |\n",
      "|mark levin                             |92   |74         |\n",
      "|Stay Tuned with Preet                  |40   |32         |\n",
      "|The Rubin Report                       |9    |8          |\n",
      "+---------------------------------------+-----+-----------+\n",
      "\n"
     ]
    }
   ],
   "source": [
    "# check the podcast_counts frequency distribution \n",
    "from pyspark.sql.functions import col, ceil\n",
    "from pyspark.sql import DataFrame\n",
    "from pyspark.sql import SparkSession\n",
    "\n",
    "podcast_counts = df.groupBy(\"podcast_name_cleaned\").count()\n",
    "podcast_counts_ordered = podcast_counts.orderBy(col(\"count\").desc(), col(\"podcast_name_cleaned\"))\n",
    "podcast_counts_ordered.show(podcast_counts_ordered.count(), truncate=False)\n",
    "\n",
    "podcast_counts = podcast_counts.withColumn(\"total_count\", ceil(col(\"count\") * 0.8))  # Assuming 80% training rate\n",
    "podcast_counts.show(podcast_counts.count(), truncate=False)"
   ]
  },
  {
   "cell_type": "code",
   "execution_count": 7,
   "id": "36b0c7ed-7a49-469b-9374-cc63b9c720e9",
   "metadata": {},
   "outputs": [],
   "source": [
    "#split the dataset using stratified sampling strategies to avoid bias and training rate is 80%\n",
    "train_data = df.join(podcast_counts, \"podcast_name_cleaned\", \"left\") \\\n",
    "    .filter(col(\"count\") <= col(\"total_count\"))\n",
    "test_data = df.join(podcast_counts, \"podcast_name_cleaned\", \"left\") \\\n",
    "    .filter(col(\"count\") > col(\"total_count\"))"
   ]
  },
  {
   "cell_type": "code",
   "execution_count": 8,
   "id": "a6951b4d-1f96-4898-8bab-d9d4a5a36a21",
   "metadata": {},
   "outputs": [
    {
     "name": "stderr",
     "output_type": "stream",
     "text": [
      "24/05/08 10:58:05 ERROR Instrumentation: java.lang.IllegalArgumentException: requirement failed: Nothing has been added to this summarizer.\n",
      "\tat scala.Predef$.require(Predef.scala:281)\n",
      "\tat org.apache.spark.ml.stat.SummarizerBuffer.mean(Summarizer.scala:624)\n",
      "\tat org.apache.spark.ml.classification.LogisticRegression.$anonfun$train$1(LogisticRegression.scala:519)\n",
      "\tat org.apache.spark.ml.util.Instrumentation$.$anonfun$instrumented$1(Instrumentation.scala:191)\n",
      "\tat scala.util.Try$.apply(Try.scala:213)\n",
      "\tat org.apache.spark.ml.util.Instrumentation$.instrumented(Instrumentation.scala:191)\n",
      "\tat org.apache.spark.ml.classification.LogisticRegression.train(LogisticRegression.scala:497)\n",
      "\tat org.apache.spark.ml.classification.LogisticRegression.train(LogisticRegression.scala:287)\n",
      "\tat org.apache.spark.ml.Predictor.fit(Predictor.scala:114)\n",
      "\tat org.apache.spark.ml.Predictor.fit(Predictor.scala:78)\n",
      "\tat java.base/jdk.internal.reflect.NativeMethodAccessorImpl.invoke0(Native Method)\n",
      "\tat java.base/jdk.internal.reflect.NativeMethodAccessorImpl.invoke(NativeMethodAccessorImpl.java:77)\n",
      "\tat java.base/jdk.internal.reflect.DelegatingMethodAccessorImpl.invoke(DelegatingMethodAccessorImpl.java:43)\n",
      "\tat java.base/java.lang.reflect.Method.invoke(Method.java:568)\n",
      "\tat py4j.reflection.MethodInvoker.invoke(MethodInvoker.java:244)\n",
      "\tat py4j.reflection.ReflectionEngine.invoke(ReflectionEngine.java:374)\n",
      "\tat py4j.Gateway.invoke(Gateway.java:282)\n",
      "\tat py4j.commands.AbstractCommand.invokeMethod(AbstractCommand.java:132)\n",
      "\tat py4j.commands.CallCommand.execute(CallCommand.java:79)\n",
      "\tat py4j.ClientServerConnection.waitForCommands(ClientServerConnection.java:182)\n",
      "\tat py4j.ClientServerConnection.run(ClientServerConnection.java:106)\n",
      "\tat java.base/java.lang.Thread.run(Thread.java:842)\n",
      "\n"
     ]
    },
    {
     "ename": "IllegalArgumentException",
     "evalue": "requirement failed: Nothing has been added to this summarizer.",
     "output_type": "error",
     "traceback": [
      "\u001b[0;31m---------------------------------------------------------------------------\u001b[0m",
      "\u001b[0;31mIllegalArgumentException\u001b[0m                  Traceback (most recent call last)",
      "Cell \u001b[0;32mIn[8], line 3\u001b[0m\n\u001b[1;32m      1\u001b[0m \u001b[38;5;66;03m# Train the model(LogisticRegression)\u001b[39;00m\n\u001b[1;32m      2\u001b[0m lr \u001b[38;5;241m=\u001b[39m LogisticRegression(featuresCol\u001b[38;5;241m=\u001b[39m\u001b[38;5;124m\"\u001b[39m\u001b[38;5;124mscaled_features\u001b[39m\u001b[38;5;124m\"\u001b[39m, labelCol\u001b[38;5;241m=\u001b[39m\u001b[38;5;124m\"\u001b[39m\u001b[38;5;124mlabel_numeric\u001b[39m\u001b[38;5;124m\"\u001b[39m)\n\u001b[0;32m----> 3\u001b[0m lr_model \u001b[38;5;241m=\u001b[39m lr\u001b[38;5;241m.\u001b[39mfit(train_data)\n\u001b[1;32m      4\u001b[0m lr_predictions \u001b[38;5;241m=\u001b[39m lr_model\u001b[38;5;241m.\u001b[39mtransform(test_data)\n\u001b[1;32m      5\u001b[0m evaluator \u001b[38;5;241m=\u001b[39m MulticlassClassificationEvaluator(labelCol\u001b[38;5;241m=\u001b[39m\u001b[38;5;124m\"\u001b[39m\u001b[38;5;124mlabel_numeric\u001b[39m\u001b[38;5;124m\"\u001b[39m, predictionCol\u001b[38;5;241m=\u001b[39m\u001b[38;5;124m\"\u001b[39m\u001b[38;5;124mprediction\u001b[39m\u001b[38;5;124m\"\u001b[39m, metricName\u001b[38;5;241m=\u001b[39m\u001b[38;5;124m\"\u001b[39m\u001b[38;5;124maccuracy\u001b[39m\u001b[38;5;124m\"\u001b[39m)\n",
      "File \u001b[0;32m~/anaconda3/lib/python3.11/site-packages/pyspark/ml/base.py:205\u001b[0m, in \u001b[0;36mEstimator.fit\u001b[0;34m(self, dataset, params)\u001b[0m\n\u001b[1;32m    203\u001b[0m         \u001b[38;5;28;01mreturn\u001b[39;00m \u001b[38;5;28mself\u001b[39m\u001b[38;5;241m.\u001b[39mcopy(params)\u001b[38;5;241m.\u001b[39m_fit(dataset)\n\u001b[1;32m    204\u001b[0m     \u001b[38;5;28;01melse\u001b[39;00m:\n\u001b[0;32m--> 205\u001b[0m         \u001b[38;5;28;01mreturn\u001b[39;00m \u001b[38;5;28mself\u001b[39m\u001b[38;5;241m.\u001b[39m_fit(dataset)\n\u001b[1;32m    206\u001b[0m \u001b[38;5;28;01melse\u001b[39;00m:\n\u001b[1;32m    207\u001b[0m     \u001b[38;5;28;01mraise\u001b[39;00m \u001b[38;5;167;01mTypeError\u001b[39;00m(\n\u001b[1;32m    208\u001b[0m         \u001b[38;5;124m\"\u001b[39m\u001b[38;5;124mParams must be either a param map or a list/tuple of param maps, \u001b[39m\u001b[38;5;124m\"\u001b[39m\n\u001b[1;32m    209\u001b[0m         \u001b[38;5;124m\"\u001b[39m\u001b[38;5;124mbut got \u001b[39m\u001b[38;5;132;01m%s\u001b[39;00m\u001b[38;5;124m.\u001b[39m\u001b[38;5;124m\"\u001b[39m \u001b[38;5;241m%\u001b[39m \u001b[38;5;28mtype\u001b[39m(params)\n\u001b[1;32m    210\u001b[0m     )\n",
      "File \u001b[0;32m~/anaconda3/lib/python3.11/site-packages/pyspark/ml/wrapper.py:381\u001b[0m, in \u001b[0;36mJavaEstimator._fit\u001b[0;34m(self, dataset)\u001b[0m\n\u001b[1;32m    380\u001b[0m \u001b[38;5;28;01mdef\u001b[39;00m \u001b[38;5;21m_fit\u001b[39m(\u001b[38;5;28mself\u001b[39m, dataset: DataFrame) \u001b[38;5;241m-\u001b[39m\u001b[38;5;241m>\u001b[39m JM:\n\u001b[0;32m--> 381\u001b[0m     java_model \u001b[38;5;241m=\u001b[39m \u001b[38;5;28mself\u001b[39m\u001b[38;5;241m.\u001b[39m_fit_java(dataset)\n\u001b[1;32m    382\u001b[0m     model \u001b[38;5;241m=\u001b[39m \u001b[38;5;28mself\u001b[39m\u001b[38;5;241m.\u001b[39m_create_model(java_model)\n\u001b[1;32m    383\u001b[0m     \u001b[38;5;28;01mreturn\u001b[39;00m \u001b[38;5;28mself\u001b[39m\u001b[38;5;241m.\u001b[39m_copyValues(model)\n",
      "File \u001b[0;32m~/anaconda3/lib/python3.11/site-packages/pyspark/ml/wrapper.py:378\u001b[0m, in \u001b[0;36mJavaEstimator._fit_java\u001b[0;34m(self, dataset)\u001b[0m\n\u001b[1;32m    375\u001b[0m \u001b[38;5;28;01massert\u001b[39;00m \u001b[38;5;28mself\u001b[39m\u001b[38;5;241m.\u001b[39m_java_obj \u001b[38;5;129;01mis\u001b[39;00m \u001b[38;5;129;01mnot\u001b[39;00m \u001b[38;5;28;01mNone\u001b[39;00m\n\u001b[1;32m    377\u001b[0m \u001b[38;5;28mself\u001b[39m\u001b[38;5;241m.\u001b[39m_transfer_params_to_java()\n\u001b[0;32m--> 378\u001b[0m \u001b[38;5;28;01mreturn\u001b[39;00m \u001b[38;5;28mself\u001b[39m\u001b[38;5;241m.\u001b[39m_java_obj\u001b[38;5;241m.\u001b[39mfit(dataset\u001b[38;5;241m.\u001b[39m_jdf)\n",
      "File \u001b[0;32m~/anaconda3/lib/python3.11/site-packages/py4j/java_gateway.py:1322\u001b[0m, in \u001b[0;36mJavaMember.__call__\u001b[0;34m(self, *args)\u001b[0m\n\u001b[1;32m   1316\u001b[0m command \u001b[38;5;241m=\u001b[39m proto\u001b[38;5;241m.\u001b[39mCALL_COMMAND_NAME \u001b[38;5;241m+\u001b[39m\\\n\u001b[1;32m   1317\u001b[0m     \u001b[38;5;28mself\u001b[39m\u001b[38;5;241m.\u001b[39mcommand_header \u001b[38;5;241m+\u001b[39m\\\n\u001b[1;32m   1318\u001b[0m     args_command \u001b[38;5;241m+\u001b[39m\\\n\u001b[1;32m   1319\u001b[0m     proto\u001b[38;5;241m.\u001b[39mEND_COMMAND_PART\n\u001b[1;32m   1321\u001b[0m answer \u001b[38;5;241m=\u001b[39m \u001b[38;5;28mself\u001b[39m\u001b[38;5;241m.\u001b[39mgateway_client\u001b[38;5;241m.\u001b[39msend_command(command)\n\u001b[0;32m-> 1322\u001b[0m return_value \u001b[38;5;241m=\u001b[39m get_return_value(\n\u001b[1;32m   1323\u001b[0m     answer, \u001b[38;5;28mself\u001b[39m\u001b[38;5;241m.\u001b[39mgateway_client, \u001b[38;5;28mself\u001b[39m\u001b[38;5;241m.\u001b[39mtarget_id, \u001b[38;5;28mself\u001b[39m\u001b[38;5;241m.\u001b[39mname)\n\u001b[1;32m   1325\u001b[0m \u001b[38;5;28;01mfor\u001b[39;00m temp_arg \u001b[38;5;129;01min\u001b[39;00m temp_args:\n\u001b[1;32m   1326\u001b[0m     \u001b[38;5;28;01mif\u001b[39;00m \u001b[38;5;28mhasattr\u001b[39m(temp_arg, \u001b[38;5;124m\"\u001b[39m\u001b[38;5;124m_detach\u001b[39m\u001b[38;5;124m\"\u001b[39m):\n",
      "File \u001b[0;32m~/anaconda3/lib/python3.11/site-packages/pyspark/errors/exceptions/captured.py:185\u001b[0m, in \u001b[0;36mcapture_sql_exception.<locals>.deco\u001b[0;34m(*a, **kw)\u001b[0m\n\u001b[1;32m    181\u001b[0m converted \u001b[38;5;241m=\u001b[39m convert_exception(e\u001b[38;5;241m.\u001b[39mjava_exception)\n\u001b[1;32m    182\u001b[0m \u001b[38;5;28;01mif\u001b[39;00m \u001b[38;5;129;01mnot\u001b[39;00m \u001b[38;5;28misinstance\u001b[39m(converted, UnknownException):\n\u001b[1;32m    183\u001b[0m     \u001b[38;5;66;03m# Hide where the exception came from that shows a non-Pythonic\u001b[39;00m\n\u001b[1;32m    184\u001b[0m     \u001b[38;5;66;03m# JVM exception message.\u001b[39;00m\n\u001b[0;32m--> 185\u001b[0m     \u001b[38;5;28;01mraise\u001b[39;00m converted \u001b[38;5;28;01mfrom\u001b[39;00m \u001b[38;5;28;01mNone\u001b[39;00m\n\u001b[1;32m    186\u001b[0m \u001b[38;5;28;01melse\u001b[39;00m:\n\u001b[1;32m    187\u001b[0m     \u001b[38;5;28;01mraise\u001b[39;00m\n",
      "\u001b[0;31mIllegalArgumentException\u001b[0m: requirement failed: Nothing has been added to this summarizer."
     ]
    }
   ],
   "source": [
    "# Train the model(LogisticRegression)\n",
    "lr = LogisticRegression(featuresCol=\"scaled_features\", labelCol=\"label_numeric\")\n",
    "lr_model = lr.fit(train_data)\n",
    "lr_predictions = lr_model.transform(test_data)\n",
    "evaluator = MulticlassClassificationEvaluator(labelCol=\"label_numeric\", predictionCol=\"prediction\", metricName=\"accuracy\")\n",
    "lr_accuracy = evaluator.evaluate(lr_predictions)\n",
    "print(\"Logistic Regression Accuracy:\", lr_accuracy)"
   ]
  },
  {
   "cell_type": "code",
   "execution_count": null,
   "id": "5a4030a5-619b-46d8-ad9c-5a77e1094066",
   "metadata": {},
   "outputs": [],
   "source": []
  },
  {
   "cell_type": "code",
   "execution_count": null,
   "id": "8c14cf9b-6d91-4465-a8b4-943fb8bab0d4",
   "metadata": {},
   "outputs": [],
   "source": [
    "# notes: for binary classification tasks like SVM, the label conlum should contain only binary values (0 or 1).\n",
    "# Train the model(SVM)\n",
    "svm = LinearSVC(featuresCol=\"scaled_features\", labelCol=\"label_numeric\")\n",
    "svm_model = svm.fit(train_data)\n",
    "svm_predictions = svm_model.transform(test_data)\n",
    "evaluator = MulticlassClassificationEvaluator(labelCol=\"label_numeric\", predictionCol=\"prediction\", metricName=\"accuracy\")\n",
    "svm_accuracy = evaluator.evaluate(svm_predictions)\n",
    "print(\"SVM Accuracy:\", svm_accuracy)"
   ]
  },
  {
   "cell_type": "code",
   "execution_count": null,
   "id": "4787d200-7088-49b9-8e0b-f562eb90241e",
   "metadata": {},
   "outputs": [],
   "source": [
    "# Train the model(NaiveBayes)\n",
    "nb = NaiveBayes(featuresCol=\"scaled_features\", labelCol=\"label_numeric\")\n",
    "nb_model = nb.fit(train_data)\n",
    "nb_predictions = nb_model.transform(test_data)\n",
    "evaluator = MulticlassClassificationEvaluator(labelCol=\"label_numeric\", predictionCol=\"prediction\", metricName=\"accuracy\")\n",
    "nb_accuracy = evaluator.evaluate(nb_predictions)\n",
    "print(\"Naive Bayes Accuracy:\", nb_accuracy)"
   ]
  },
  {
   "cell_type": "code",
   "execution_count": null,
   "id": "5710c84f-c0a3-400d-b1ba-4ec0909dce2d",
   "metadata": {},
   "outputs": [],
   "source": []
  }
 ],
 "metadata": {
  "kernelspec": {
   "display_name": "Python 3 (ipykernel)",
   "language": "python",
   "name": "python3"
  },
  "language_info": {
   "codemirror_mode": {
    "name": "ipython",
    "version": 3
   },
   "file_extension": ".py",
   "mimetype": "text/x-python",
   "name": "python",
   "nbconvert_exporter": "python",
   "pygments_lexer": "ipython3",
   "version": "3.11.5"
  }
 },
 "nbformat": 4,
 "nbformat_minor": 5
}
