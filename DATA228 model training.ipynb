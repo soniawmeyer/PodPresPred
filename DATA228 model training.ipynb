{
 "cells": [
  {
   "cell_type": "code",
   "execution_count": 1,
   "id": "42765572-eddf-49a6-87c5-9d8e1f6a25f6",
   "metadata": {},
   "outputs": [
    {
     "name": "stderr",
     "output_type": "stream",
     "text": [
      "24/04/24 15:07:55 WARN Utils: Your hostname, yangjingdeMacBook-Air.local resolves to a loopback address: 127.0.0.1; using 192.168.1.7 instead (on interface en0)\n",
      "24/04/24 15:07:55 WARN Utils: Set SPARK_LOCAL_IP if you need to bind to another address\n",
      "Setting default log level to \"WARN\".\n",
      "To adjust logging level use sc.setLogLevel(newLevel). For SparkR, use setLogLevel(newLevel).\n",
      "24/04/24 15:07:56 WARN NativeCodeLoader: Unable to load native-hadoop library for your platform... using builtin-java classes where applicable\n"
     ]
    },
    {
     "name": "stdout",
     "output_type": "stream",
     "text": [
      "root\n",
      " |-- file_name: string (nullable = true)\n",
      " |-- features: vector (nullable = true)\n",
      " |-- label: integer (nullable = true)\n",
      "\n",
      "+--------------------+--------------------+-----+\n",
      "|           file_name|            features|label|\n",
      "+--------------------+--------------------+-----+\n",
      "|file:///Users/Son...|[-11.0,-0.0045544...|    0|\n",
      "|file:///Users/Son...|[-4.0,-0.00696119...|    1|\n",
      "|file:///Users/Son...|[6.0,-0.004067219...|    1|\n",
      "|file:///Users/Son...|[2.0,-0.004230739...|    1|\n",
      "|file:///Users/Son...|[-16.0,-0.0048420...|    1|\n",
      "|file:///Users/Son...|[-1.0,-0.00354826...|    0|\n",
      "|file:///Users/Son...|[-3.0,-0.00778278...|    1|\n",
      "|file:///Users/Son...|[-1.0,-0.00144967...|    0|\n",
      "|file:///Users/Son...|[-15.0,-0.0018874...|    1|\n",
      "|file:///Users/Son...|[-4.0,6.327797309...|    1|\n",
      "|file:///Users/Son...|[-2.0,-0.00541289...|    1|\n",
      "|file:///Users/Son...|[14.0,-0.00546586...|    0|\n",
      "|file:///Users/Son...|[3.0,-0.003829947...|    1|\n",
      "|file:///Users/Son...|[-4.0,-0.00344390...|    0|\n",
      "|file:///Users/Son...|[-7.0,-0.00313248...|    0|\n",
      "|file:///Users/Son...|[13.0,-0.00395319...|    0|\n",
      "|file:///Users/Son...|[2.0,-0.004126396...|    0|\n",
      "|file:///Users/Son...|[7.0,-0.005012284...|    0|\n",
      "|file:///Users/Son...|[23.0,-0.00693683...|    1|\n",
      "|file:///Users/Son...|[-13.0,-0.0028772...|    0|\n",
      "+--------------------+--------------------+-----+\n",
      "only showing top 20 rows\n",
      "\n"
     ]
    }
   ],
   "source": [
    "#add shift and model parameters based on basic model\n",
    "\n",
    "from pyspark.sql import SparkSession\n",
    "\n",
    "# supress warnings\n",
    "import warnings\n",
    "warnings.filterwarnings('ignore')\n",
    "\n",
    "spark = SparkSession.builder \\\n",
    "    .appName(\"Presidential Election Prediction\") \\\n",
    "    .getOrCreate()\n",
    "\n",
    "df = spark.read.parquet(\"part-00000-4fa0b8fe-f36e-45eb-91d1-c61026c3c0cd-c000.snappy.parquet\")\n",
    "df.printSchema()\n",
    "df.show()  "
   ]
  },
  {
   "cell_type": "code",
   "execution_count": 2,
   "id": "5c1f2a06-82f4-4f1b-add6-1515ec045298",
   "metadata": {},
   "outputs": [
    {
     "data": {
      "text/plain": [
       "[('file_name', 'string'), ('features', 'vector'), ('label', 'int')]"
      ]
     },
     "execution_count": 2,
     "metadata": {},
     "output_type": "execute_result"
    }
   ],
   "source": [
    "df.dtypes"
   ]
  },
  {
   "cell_type": "code",
   "execution_count": 3,
   "id": "36453774-0722-4f5a-a847-909f31ffc23e",
   "metadata": {},
   "outputs": [],
   "source": [
    "from pyspark.ml.classification import NaiveBayes, LogisticRegression, LinearSVC\n",
    "from pyspark.ml.evaluation import MulticlassClassificationEvaluator\n",
    "from pyspark.ml import Pipeline\n",
    "from pyspark.ml.feature import MinMaxScaler"
   ]
  },
  {
   "cell_type": "code",
   "execution_count": 4,
   "id": "f751fa89-9b83-490e-ad86-4dee873d3481",
   "metadata": {},
   "outputs": [],
   "source": [
    "# Handle Negative Values: since our features columns contains negative values, we use scaling techniques such as MinMaxScaler or StandardScaler to transform or standarize it.\n",
    "scaler = MinMaxScaler(inputCol=\"features\", outputCol=\"scaled_features\")\n",
    "scaler_model = scaler.fit(df)\n",
    "df = scaler_model.transform(df)"
   ]
  },
  {
   "cell_type": "code",
   "execution_count": 5,
   "id": "5d867053-9492-4b2f-8910-982313199a58",
   "metadata": {},
   "outputs": [
    {
     "name": "stderr",
     "output_type": "stream",
     "text": [
      "24/04/24 15:08:00 WARN InstanceBuilder: Failed to load implementation from:dev.ludovic.netlib.blas.JNIBLAS\n",
      "24/04/24 15:08:00 WARN InstanceBuilder: Failed to load implementation from:dev.ludovic.netlib.blas.VectorBLAS\n"
     ]
    }
   ],
   "source": [
    "# Split Data into Training and Testing Sets\n",
    "train_data, test_data = df.randomSplit([0.8, 0.2], seed=42)\n",
    "\n",
    "# Train the models(NaiveBayes,LogisticRegression,SVM)\n",
    "lr = LogisticRegression(featuresCol=\"scaled_features\", labelCol=\"label\")\n",
    "svm = LinearSVC(featuresCol=\"scaled_features\", labelCol=\"label\")\n",
    "nb = NaiveBayes(featuresCol=\"scaled_features\", labelCol=\"label\")\n",
    "\n",
    "lr_model = lr.fit(train_data)\n",
    "svm_model = svm.fit(train_data)\n",
    "nb_model = nb.fit(train_data)"
   ]
  },
  {
   "cell_type": "code",
   "execution_count": 6,
   "id": "17a81ef5-d26d-42e0-a4d1-7fa1a93baada",
   "metadata": {},
   "outputs": [
    {
     "name": "stdout",
     "output_type": "stream",
     "text": [
      "Logistic Regression Accuracy: 0.36363636363636365\n",
      "SVM Accuracy: 0.5\n",
      "Naive Bayes Accuracy: 0.5909090909090909\n"
     ]
    }
   ],
   "source": [
    "# Model Evaluation (using accuracy as an example)\n",
    "lr_predictions = lr_model.transform(test_data)\n",
    "svm_predictions = svm_model.transform(test_data)\n",
    "nb_predictions = nb_model.transform(test_data)\n",
    "\n",
    "evaluator = MulticlassClassificationEvaluator(labelCol=\"label\", predictionCol=\"prediction\", metricName=\"accuracy\")\n",
    "\n",
    "lr_accuracy = evaluator.evaluate(lr_predictions)\n",
    "svm_accuracy = evaluator.evaluate(svm_predictions)\n",
    "nb_accuracy = evaluator.evaluate(nb_predictions)\n",
    "\n",
    "print(\"Logistic Regression Accuracy:\", lr_accuracy)\n",
    "print(\"SVM Accuracy:\", svm_accuracy)\n",
    "print(\"Naive Bayes Accuracy:\", nb_accuracy)"
   ]
  }
 ],
 "metadata": {
  "kernelspec": {
   "display_name": "Python 3 (ipykernel)",
   "language": "python",
   "name": "python3"
  },
  "language_info": {
   "codemirror_mode": {
    "name": "ipython",
    "version": 3
   },
   "file_extension": ".py",
   "mimetype": "text/x-python",
   "name": "python",
   "nbconvert_exporter": "python",
   "pygments_lexer": "ipython3",
   "version": "3.11.5"
  }
 },
 "nbformat": 4,
 "nbformat_minor": 5
}
